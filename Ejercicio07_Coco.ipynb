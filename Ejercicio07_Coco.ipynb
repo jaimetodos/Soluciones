{
 "cells": [
  {
   "cell_type": "markdown",
   "metadata": {},
   "source": [
    "# Ejercicio 7 - Hamiltoniano alias el diablo"
   ]
  },
  {
   "cell_type": "markdown",
   "metadata": {},
   "source": [
    "La idea era ajustar datos a un modelo cuadrático usando monte carlo hamiltoniano. Traté de explicar la solución de jaime pero unas partes continuan siendo un misterio para mi."
   ]
  },
  {
   "cell_type": "code",
   "execution_count": 1,
   "metadata": {},
   "outputs": [],
   "source": [
    "import numpy as np\n",
    "import matplotlib.pyplot as plt"
   ]
  },
  {
   "cell_type": "code",
   "execution_count": 2,
   "metadata": {},
   "outputs": [],
   "source": [
    "#Las primeras tres funciones son las mismas que siemrpe definimos para hacer MCMC.\n",
    "#La única diferencia es que esta vez el man coge como prior una gaussiana porque ajá.\n",
    "def model(x,param):\n",
    "    \"\"\"Modelo polinomial. `param` contiene los coeficientes.\n",
    "    \"\"\"\n",
    "    n_param = len(param)\n",
    "    y = 0\n",
    "    for i in range(n_param):\n",
    "        y += param[i] * x**i\n",
    "    return y \n",
    "    \n",
    "def loglikelihood(x_obs, y_obs, sigma_y_obs, param):\n",
    "    \"\"\"Logaritmo natural de la verosimilitud construida con los datos observacionales y los \n",
    "        parametros que describen el modelo.\n",
    "    \"\"\"\n",
    "    d = y_obs -  model(x_obs, param)\n",
    "    d = d/sigma_y_obs\n",
    "    d = -0.5 * np.sum(d**2)\n",
    "    return d\n",
    "\n",
    "def logprior(param):\n",
    "    \"\"\"Logaritmo natural de los prior para los parametros.\n",
    "        Todos corresponden a gaussianas con sigma=10.0.\n",
    "    \"\"\"\n",
    "    d = -0.5 * np.sum(param**2/(10.0)**2)\n",
    "    return d"
   ]
  },
  {
   "cell_type": "markdown",
   "metadata": {},
   "source": [
    "Asumiendo que $F(\\vec{q})$ es la likelihood y teniendo en mente que $\\vec{q} = param$ y $\\vec{p}$ será el vector con los momentos asociados, queremos resolver las ecuaciones de Hamilton para el siguiente hamiltoniano:\n",
    "\n",
    "$$\n",
    "\\mathcal{H} = \\frac{\\vec{p}^2}{2m} -  \\log (F(\\vec{q})) \n",
    "$$\n",
    "\n",
    "Las ecuaciones de hamilton son (componente a componente):\n",
    "\n",
    "$$\n",
    "\\frac{\\partial p}{\\partial t} = -\\frac{\\partial \\mathcal{H}}{\\partial q}\n",
    "$$os\n",
    "\n",
    "$$\n",
    "\\frac{\\partial q}{\\partial t} = +\\frac{\\partial \\mathcal{H}}{\\partial p}\n",
    "$$\n",
    "\n",
    "Para resolverlas numericamente usamos las siguientes ecuaciones:\n",
    "\n",
    "$$\n",
    "p_{n+1} = p_{n} -\\frac{\\partial\\mathcal{H}}{\\partial q}\\Delta t,\n",
    "$$\n",
    "\n",
    "$$\n",
    "q_{n+1} = q_{n} + \\frac{\\partial \\mathcal{H}}{\\partial p}\\Delta t.\n",
    "$$\n",
    "\n",
    "La primera ecuacion recibe el nombre de **kick** (es como un golpe que cambia el momentum) y la segunda ecuacion el de **drift** (es como un movimiento libre a velocidad constante)."
   ]
  },
  {
   "cell_type": "code",
   "execution_count": 3,
   "metadata": {},
   "outputs": [],
   "source": [
    "#Esta función devuelve el valor de la derivada de log(F(param)) en param, calculado numericamente.\n",
    "#Como depende de varias variables la derivada es en realidad una divergencia (se suman los valores\n",
    "#de las derivadas parciales).\n",
    "def divergence_loglikelihood(x_obs, y_obs, sigma_y_obs, param):\n",
    "    \"\"\"Divergencia del logaritmo de la funcion de verosimilitud.\n",
    "    \"\"\"\n",
    "    n_param = len(param)\n",
    "    div = np.ones(n_param)\n",
    "    delta = 1E-5\n",
    "    for i in range(n_param):\n",
    "        delta_parameter = np.zeros(n_param)\n",
    "        delta_parameter[i] = delta\n",
    "        #Se suma y se resta delta_parameter para que justamente sea el valor de la derivada en param.\n",
    "        div[i] = loglikelihood(x_obs, y_obs, sigma_y_obs, param + delta_parameter) \n",
    "        div[i] = div[i] - loglikelihood(x_obs, y_obs, sigma_y_obs, param - delta_parameter)\n",
    "        div[i] = div[i]/(2.0 * delta)\n",
    "    return div\n",
    "\n",
    "def hamiltonian(x_obs, y_obs, sigma_y_obs, param, param_momentum):\n",
    "    \"\"\"Hamiltoniano: energia cinetica + potencial: K+V\n",
    "    \"\"\"\n",
    "    m = 100.0 #Para mi la mayor incógnita. La masa es 100 porque ajá. Si le ponen 10 el fit es horrible.\n",
    "    K = 0.5 * np.sum(param_momentum**2)/m\n",
    "    V = -loglikelihood(x_obs, y_obs, sigma_y_obs, param)     \n",
    "    return K + V\n",
    "\n",
    "#Esto es la implementación de las ecuaciones kick y drift\n",
    "def leapfrog_proposal(x_obs, y_obs, sigma_y_obs, param, param_momentum):\n",
    "    \"\"\"Integracion tipo leapfrog. \n",
    "        `param` representa las posiciones (i.e. los parametros).\n",
    "        `param_momemtum` representa el momentum asociado a los parametros.\n",
    "    \"\"\"\n",
    "    N_steps = 5 #Otro misterio, no sé porque hace 5 pasos.\n",
    "    delta_t = 1E-2\n",
    "    m = 100.0\n",
    "    new_param = param.copy()\n",
    "    new_param_momentum = param_momentum.copy()\n",
    "    for i in range(N_steps):\n",
    "        #Noten que el + es porque la formula es -logF(q)\n",
    "        new_param_momentum = new_param_momentum + divergence_loglikelihood(x_obs, y_obs, sigma_y_obs, param) * 0.5 * delta_t \n",
    "        new_param = new_param + (new_param_momentum/m) * delta_t\n",
    "        new_param_momentum = new_param_momentum + divergence_loglikelihood(x_obs, y_obs, sigma_y_obs, param) * 0.5 * delta_t\n",
    "    new_param_momentum = -new_param_momentum #Misterio.\n",
    "    return new_param, new_param_momentum\n",
    "\n",
    "\n",
    "def monte_carlo(x_obs, y_obs, sigma_y_obs, N=5000):\n",
    "    param = [np.random.random(3)]\n",
    "    param_momentum = [np.random.normal(size=3)]\n",
    "    for i in range(1,N):\n",
    "        propuesta_param, propuesta_param_momentum = leapfrog_proposal(x_obs, y_obs, sigma_y_obs, param[i-1], param_momentum[i-1])\n",
    "        energy_new = hamiltonian(x_obs, y_obs, sigma_y_obs, propuesta_param, propuesta_param_momentum)\n",
    "        energy_old = hamiltonian(x_obs, y_obs, sigma_y_obs, param[i-1], param_momentum[i-1])\n",
    "        #En este caso el criterio se hace con la energía.\n",
    "        r = min(1,np.exp(-(energy_new - energy_old)))\n",
    "        alpha = np.random.random()\n",
    "        if(alpha<r):\n",
    "            param.append(propuesta_param)\n",
    "        else:\n",
    "            param.append(param[i-1])\n",
    "        param_momentum.append(np.random.normal(size=3))    \n",
    "\n",
    "    param = np.array(param)\n",
    "    return param\n",
    "#Al final param es una matriz donde diferentes columnas corresponden a coeficientes diferentes."
   ]
  },
  {
   "cell_type": "code",
   "execution_count": 4,
   "metadata": {},
   "outputs": [
    {
     "data": {
      "text/plain": [
       "<matplotlib.legend.Legend at 0x7f6b41da2898>"
      ]
     },
     "execution_count": 4,
     "metadata": {},
     "output_type": "execute_result"
    },
    {
     "data": {
      "image/png": "[encoded data removed]",
      "text/plain": [
       "<Figure size 432x288 with 1 Axes>"
      ]
     },
     "metadata": {
      "needs_background": "light"
     },
     "output_type": "display_data"
    }
   ],
   "source": [
    "x_obs = np.array([-2.0,1.3,0.4,5.0,0.1, -4.7, 3.0, -3.5,-1.1])\n",
    "y_obs = np.array([ -1.931,   2.38,   1.88,  -24.22,   3.31, -21.9,  -5.18, -12.23,   0.822])\n",
    "sigma_y_obs = ([ 2.63,  6.23, -1.461, 1.376, -4.72,  1.313, -4.886, -1.091,  0.8054])\n",
    "\n",
    "param_chain = monte_carlo(x_obs, y_obs, sigma_y_obs)\n",
    "n_param  = len(param_chain[0])\n",
    "best = []\n",
    "for i in range(n_param):\n",
    "    best.append(np.mean(param_chain[:,i]))\n",
    "\n",
    "\n",
    "x_model = np.linspace(x_obs.min(), x_obs.max(), 100)\n",
    "y_model = model(x_model, best)\n",
    "\n",
    "plt.errorbar(x_obs,y_obs, yerr=sigma_y_obs, fmt='o', label='obs')\n",
    "plt.plot(x_model, y_model, label='model')\n",
    "plt.xlabel(\"x\")\n",
    "plt.ylabel(\"y\")\n",
    "plt.legend()"
   ]
  },
  {
   "cell_type": "code",
   "execution_count": null,
   "metadata": {},
   "outputs": [],
   "source": []
  }
 ],
 "metadata": {
  "kernelspec": {
   "display_name": "Python 3",
   "language": "python",
   "name": "python3"
  },
  "language_info": {
   "codemirror_mode": {
    "name": "ipython",
    "version": 3
   },
   "file_extension": ".py",
   "mimetype": "text/x-python",
   "name": "python",
   "nbconvert_exporter": "python",
   "pygments_lexer": "ipython3",
   "version": "3.6.6"
  }
 },
 "nbformat": 4,
 "nbformat_minor": 2
}

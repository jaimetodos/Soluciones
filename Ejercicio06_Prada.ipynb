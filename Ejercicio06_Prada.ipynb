{
 "cells": [
  {
   "cell_type": "markdown",
   "metadata": {},
   "source": [
    "# Escriba un codigo para ajustar datos bidimensionales a una parabola usando estadistica Bayesiana y el  algoritmo de Metropolis Hastings."
   ]
  },
  {
   "cell_type": "code",
   "execution_count": 1,
   "metadata": {},
   "outputs": [],
   "source": [
    "import numpy as np \n",
    "import matplotlib.pyplot as plt "
   ]
  },
  {
   "cell_type": "code",
   "execution_count": 4,
   "metadata": {},
   "outputs": [
    {
     "data": {
      "text/plain": [
       "<ErrorbarContainer object of 3 artists>"
      ]
     },
     "execution_count": 4,
     "metadata": {},
     "output_type": "execute_result"
    },
    {
     "data": {
      "image/png": "[encoded data removed]",
      "text/plain": [
       "<Figure size 432x288 with 1 Axes>"
      ]
     },
     "metadata": {
      "needs_background": "light"
     },
     "output_type": "display_data"
    }
   ],
   "source": [
    "# Datos\n",
    "x_obs = np.array([-2.0,1.3,0.4,5.0,0.1, -4.7, 3.0, -3.5,-1.1])\n",
    "y_obs = np.array([ -1.931,   2.38,   1.88,  -24.22,   3.31, -21.9,  -5.18, -12.23,   0.822])\n",
    "sigma_y_obs = ([ 2.63,  6.23, -1.461, 1.376, -4.72,  1.313, -4.886, -1.091,  0.8054])\n",
    "plt.errorbar(x_obs, y_obs, yerr=sigma_y_obs, fmt='o')"
   ]
  },
  {
   "cell_type": "code",
   "execution_count": 10,
   "metadata": {},
   "outputs": [],
   "source": [
    "# Modelo. Es un polinomio de grado n_param\n",
    "def model(x,param):\n",
    "    n_param = len(param)\n",
    "    y = 0\n",
    "    for i in range(n_param):\n",
    "        y += param[i] * x**i\n",
    "    return y \n",
    "\n",
    "# Prior. Doy un intervalo grande donde se que van a caer todos los parametros del modelo\n",
    "def logprior(param):\n",
    "    p = 0.0\n",
    "    n_param = len(param)\n",
    "    for i in range(n_param):\n",
    "        if param[i] < 20 and param[i]>-20 :\n",
    "            p += 0.0\n",
    "        else:\n",
    "            p += np.inf\n",
    "    return p\n",
    "\n",
    "# Likelihood. En realidad es -loglike que es mas conveniente algebraicamente    \n",
    "def loglikelihood(x_obs, y_obs, sigma_y_obs, param):\n",
    "    d = y_obs -  model(x_obs, param)\n",
    "    d = d/sigma_y_obs\n",
    "    d = -0.5 * np.sum(d**2)\n",
    "    return d"
   ]
  },
  {
   "cell_type": "code",
   "execution_count": 12,
   "metadata": {},
   "outputs": [
    {
     "name": "stdout",
     "output_type": "stream",
     "text": [
      "(50000, 3)\n",
      "[2.1865185767769297, 0.15418673863701188, -1.0811554614516947]\n"
     ]
    }
   ],
   "source": [
    "# Cadena de Markov (Metropolis-Hashtings)\n",
    "N = 50000\n",
    "l_param = [np.random.random(3)]\n",
    "sigma_param = [1.0, 0.5, 0.1]\n",
    "n_param = len(sigma_param)\n",
    "for i in range(1,N):\n",
    "    propuesta  = l_param[i-1] + np.random.normal(size=n_param)*sigma_param\n",
    "    logposterior_viejo = loglikelihood(x_obs, y_obs, sigma_y_obs, l_param[i-1]) + logprior(l_param[i-1])\n",
    "    logposterior_nuevo = loglikelihood(x_obs, y_obs, sigma_y_obs, propuesta) + logprior(propuesta)\n",
    "\n",
    "    r = min(1,np.exp(logposterior_nuevo-logposterior_viejo))\n",
    "    alpha = np.random.random()\n",
    "    if(alpha<r):\n",
    "        l_param.append(propuesta)\n",
    "    else:\n",
    "        l_param.append(l_param[i-1])\n",
    "\n",
    "# Matriz 50000x3. Las filas estimaciones de parametros y cada columna es un parametro\n",
    "l_param = np.array(l_param)\n",
    "print(np.shape(l_param))\n",
    "\n",
    "# Promedio todas las estimaciones por columnas para encontrar el promedio de la estimacion de parametros\n",
    "best = []\n",
    "for i in range(n_param):\n",
    "    best.append(np.mean(l_param[:,i]))\n",
    "\n",
    "print(best)"
   ]
  },
  {
   "cell_type": "code",
   "execution_count": 14,
   "metadata": {},
   "outputs": [
    {
     "data": {
      "image/png": "[encoded data removed]",
      "text/plain": [
       "<Figure size 432x288 with 1 Axes>"
      ]
     },
     "metadata": {
      "needs_background": "light"
     },
     "output_type": "display_data"
    }
   ],
   "source": [
    "# Plots\n",
    "x_model = np.linspace(x_obs.min(), x_obs.max(), 100)\n",
    "y_model = model(x_model, best)\n",
    "\n",
    "plt.errorbar(x_obs,y_obs, yerr=sigma_y_obs, fmt='o', label='obs', color='blue')\n",
    "plt.plot(x_model, y_model, label='model', color='cyan')\n",
    "plt.xlabel(\"x\")\n",
    "plt.ylabel(\"y\")\n",
    "plt.legend()\n",
    "plt.savefig('best_model.pdf')"
   ]
  },
  {
   "cell_type": "code",
   "execution_count": null,
   "metadata": {},
   "outputs": [],
   "source": []
  }
 ],
 "metadata": {
  "kernelspec": {
   "display_name": "Python 3",
   "language": "python",
   "name": "python3"
  },
  "language_info": {
   "codemirror_mode": {
    "name": "ipython",
    "version": 2
   },
   "file_extension": ".py",
   "mimetype": "text/x-python",
   "name": "python",
   "nbconvert_exporter": "python",
   "pygments_lexer": "ipython2",
   "version": "2.7.15"
  }
 },
 "nbformat": 4,
 "nbformat_minor": 2
}

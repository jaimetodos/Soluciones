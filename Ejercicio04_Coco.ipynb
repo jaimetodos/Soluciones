{
 "cells": [
  {
   "cell_type": "markdown",
   "metadata": {},
   "source": [
    "# Ejercicio 4 - Todos vamos a Morir"
   ]
  },
  {
   "cell_type": "markdown",
   "metadata": {},
   "source": [
    " Si encuentro un único individuo y conozco su edad, debo estimar la densidad de probabilidad que da la expectativa de vida de la población. Hay una cosa que se sabe a priori, la expectativa de vida no puede estar por debajo de la edad del individuo encontrado."
   ]
  },
  {
   "cell_type": "code",
   "execution_count": 1,
   "metadata": {},
   "outputs": [],
   "source": [
    "import numpy as np\n",
    "import matplotlib.pyplot as plt"
   ]
  },
  {
   "cell_type": "code",
   "execution_count": 2,
   "metadata": {},
   "outputs": [
    {
     "data": {
      "text/plain": [
       "Text(0, 0.5, 'PDF (Edad Maxima Posible|data)')"
      ]
     },
     "execution_count": 2,
     "metadata": {},
     "output_type": "execute_result"
    },
    {
     "data": {
      "image/png": "[encoded data removed]",
      "text/plain": [
       "<Figure size 432x288 with 1 Axes>"
      ]
     },
     "metadata": {
      "needs_background": "light"
     },
     "output_type": "display_data"
    }
   ],
   "source": [
    "n_personas_obs = 2\n",
    "edad_maxima_obs = 80\n",
    "\n",
    "edad_final = np.arange(0, 500) #Futuros bins del histograma.\n",
    "n_edades = len(edad_final)\n",
    "\n",
    "n_intentos_por_edad = 10000\n",
    "\n",
    "lista_edades_final = [] #De aquí se obtendrá el histograma.\n",
    "for i in range(n_edades):\n",
    "    for j in range(n_intentos_por_edad):\n",
    "        #Se generan n_personas_obs aleatoriamente con edades entre 0 y edad_final[i]\n",
    "        #y se evalúa si la edad máxima coincide con edad_maxima_obs. En el caso que sí\n",
    "        #se agrega edad_final[i] a lista_edades_final, pues eso significa que es posible\n",
    "        #que la edad de muerte sea edad_final[i].\n",
    "        a = np.int_(np.random.uniform(low=0, \n",
    "                                      high=edad_final[i], \n",
    "                                      size=n_personas_obs))\n",
    "        if(a.max()==edad_maxima_obs):\n",
    "            lista_edades_final.append(edad_final[i])\n",
    "\n",
    "\n",
    "#Funciones no importantes usadas para calcular valor más probable, media, sigma, usando la densidad\n",
    "#que se obtiene del histograma (pdf_p_a).\n",
    "def max_prob(p_a, pdf_p_a):\n",
    "    ii = np.argmax(pdf_p_a)\n",
    "    return p_a[ii]\n",
    "\n",
    "def mean(p_a, pdf_p_a):\n",
    "    return np.trapz(pdf_p_a*p_a, p_a)\n",
    "\n",
    "def sigma(p_a, pdf_p_a):\n",
    "    m = mean(p_a, pdf_p_a)\n",
    "    s = np.trapz(pdf_p_a*p_a*p_a, p_a)\n",
    "    return np.sqrt(s - m**2)\n",
    "\n",
    "\n",
    "\n",
    "\n",
    "distro, bins,_ = plt.hist(lista_edades_final, bins=edad_final, density=True)\n",
    "\n",
    "mp = max_prob(bins[:-1], distro)\n",
    "m = mean(bins[:-1], distro)\n",
    "sig = sigma(bins[:-1], distro)\n",
    "values = 'Max Prob = {:.2f}, Mean = {:.2f}, Sigma={:.2f}'.format(mp, m, sig)\n",
    "plt.title(values)\n",
    "plt.xlabel('Edad Maxima Posible')\n",
    "plt.ylabel('PDF (Edad Maxima Posible|data)')"
   ]
  },
  {
   "cell_type": "code",
   "execution_count": null,
   "metadata": {},
   "outputs": [],
   "source": []
  }
 ],
 "metadata": {
  "kernelspec": {
   "display_name": "Python 3",
   "language": "python",
   "name": "python3"
  },
  "language_info": {
   "codemirror_mode": {
    "name": "ipython",
    "version": 3
   },
   "file_extension": ".py",
   "mimetype": "text/x-python",
   "name": "python",
   "nbconvert_exporter": "python",
   "pygments_lexer": "ipython3",
   "version": "3.6.6"
  }
 },
 "nbformat": 4,
 "nbformat_minor": 2
}

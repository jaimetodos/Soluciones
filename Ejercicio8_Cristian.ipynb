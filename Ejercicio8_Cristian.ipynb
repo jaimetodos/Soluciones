{
 "cells": [
  {
   "cell_type": "markdown",
   "metadata": {},
   "source": [
    "# Distribucion de Velocidades, Bayes/Metropolis"
   ]
  },
  {
   "cell_type": "markdown",
   "metadata": {},
   "source": [
    "A través de fotos aéreas se tienen medidas del alcance de un lanzador de proyectiles. Se tienen cinco valores (en metros): 880, 795, 782, 976, 178. Todas las mediciones tienen una incertidumbre de 5 metros. Los valores diferentes del alcance se deben a diferentes ángulos de lanzamiento, la velocidad inicial es aproximadamente la misma. Utilice el teorema de Bayes y el método de Metropolis-Hastings para encontrar la distribución de probabilidad de la velocidad inicial dados los datos observacionales. La respuesta debe estar implementada dentro de un archivo .py. El código debe producir una única gráfica de la distribución de probabilidad pedidad donde en el título se anotan la velocidad que maximiza la probabilidad, el valor medio y la desviación estándar.\n",
    "\n",
    "Pista: https://github.com/ComputoCienciasUniandes/MetodosComputacionales/blob/master/ejercicios/2018-10/ej26-1.md"
   ]
  },
  {
   "cell_type": "code",
   "execution_count": 5,
   "metadata": {},
   "outputs": [
    {
     "name": "stderr",
     "output_type": "stream",
     "text": [
      "No handles with labels found to put in legend.\n"
     ]
    },
    {
     "data": {
      "text/plain": [
       "<matplotlib.legend.Legend at 0x233299ae908>"
      ]
     },
     "execution_count": 5,
     "metadata": {},
     "output_type": "execute_result"
    },
    {
     "data": {
      "image/png": "[encoded data removed]",
      "text/plain": [
       "<Figure size 432x288 with 1 Axes>"
      ]
     },
     "metadata": {},
     "output_type": "display_data"
    }
   ],
   "source": [
    "import numpy as np\n",
    "import matplotlib.pyplot as plt\n",
    "\n",
    "#Defino la función de alcance, que depende de la velocidad de partida y el ángulo theta\n",
    "def alcance(v, theta):\n",
    "    g = 9.8\n",
    "    return v**2 * np.sin(2*theta)/g          #Esta forma viene del link que puso en el enunciado\n",
    "\n",
    "d_obs = np.array([880, 795, 782, 976, 178])  #Distancias observadas o alcances (datos enunciado)\n",
    "sigma_d = 5.0                                #Incertidumbre en las medidas\n",
    "\n",
    "#Defino el Logaritmo de Likelihood para que en vez de una multiplicación, quede como una suma (es mas eficiente)\n",
    "def loglikelihood(d_obs, sigma_d, v, theta):\n",
    "    d = d_obs - alcance(v, theta) \n",
    "    d = d/sigma_d\n",
    "    L = -0.5*np.sum(d**2)  \n",
    "    return L\n",
    "\n",
    "#Defino el Prior tambien como un logaritmo para ser consistente con el Log-Likelihood\n",
    "def logprior(v, theta):\n",
    "    p = -np.inf      #Acotar los parametros, un logprior = -inf equivale a un prior = 0\n",
    "    if v<100 and v>0 and theta>0 and theta<0.5*np.pi: \n",
    "        p = 0.0      #Un Logprior = 0 equivale a un Prior = 1, valores permitidos\n",
    "    return p\n",
    "#La probabilidad del prior será uniforme para los valores permitidos y 0 para los no-permitidos\n",
    "#En consecuencia, el Log-prior será 0 para los permitidos y -inf para los no-permitidos \n",
    "#Las cotas de los parametros se obtienen intuitivamente al visualizar los datos (A MANO)\n",
    "\n",
    "#Creo listas para los parametros que busco estimar y las inicializo con valores aletorios (se pueden elegir a mano)\n",
    "lista_v = [np.random.random()]\n",
    "lista_theta = [np.random.random()]\n",
    "\n",
    "#Defino el posterior (inicializado con valores iniciales de las listas)\n",
    "#(Recordemos que Posterior = (Likelihood*Prior)/Normalizacion)\n",
    "#Cuando saco el Log. queda como una suma.\n",
    "logposterior = [loglikelihood(d_obs, sigma_d, lista_v[0], lista_theta[0]) + logprior(lista_v[0], lista_theta[0])]\n",
    "\n",
    "#Defino los steps para variar los valores de los parámetros que quiero estimar\n",
    "sigma_dtheta = 0.1\n",
    "sigma_dv = 2\n",
    "\n",
    "N = 50000 #Numero de iteraciones para la búsqueda de parámetros\n",
    "for i in range(1,N):\n",
    "    #Defino un valor NUEVO para V respecto al valor de inicializacion, lo mismo para theta.\n",
    "    propuesta_v  = lista_v[i-1] + np.random.normal(loc=0.0, scale=sigma_dv) \n",
    "    propuesta_theta  = lista_theta[i-1] + np.random.normal(loc=0.0, scale=sigma_dtheta)\n",
    "\n",
    "    #Defino los logposterior de los parametros iniciales y los actuales (viejo y nuevo)\n",
    "    logposterior_viejo = loglikelihood(d_obs, sigma_d, lista_v[i-1], lista_theta[i-1]) + logprior(lista_v[i-1], lista_theta[i-1])\n",
    "    logposterior_nuevo = loglikelihood(d_obs, sigma_d, propuesta_v, propuesta_theta) + logprior(propuesta_v, propuesta_theta)\n",
    " \n",
    "    #METROPOLIS\n",
    "    \n",
    "    #Este valor de r estima que tan lejos estan los posteriors, si son iguales, r=1.\n",
    "    r = min(1,np.exp(logposterior_nuevo-logposterior_viejo))\n",
    "    alpha = np.random.random() #es un numero aleatorio entre 0 y 1\n",
    "    \n",
    "    #Admite los NUEVOS valores en las listas si el error (mide la diferencia entre los posteriors del parametro\n",
    "    #viejo y nuevo) es mayor que un numero aletorio entre 0 y 1, de lo contrario agrega nuevamente los anteriores.\n",
    "    \n",
    "    #Si el error es grande, admite nuevos valores, de lo contrario repetirá el valor actual.\n",
    "    \n",
    "    if(alpha<r):\n",
    "        lista_v.append(propuesta_v)\n",
    "        lista_theta.append(propuesta_theta)\n",
    "        logposterior.append(logposterior_nuevo)\n",
    "    else:\n",
    "        lista_v.append(lista_v[i-1])\n",
    "        lista_theta.append(lista_theta[i-1])\n",
    "        logposterior.append(logposterior_viejo)\n",
    "        \n",
    "#Listas llenas con los parámetros estimados, se convierten en array para facilitar calculos después\n",
    "lista_v = np.array(lista_v)\n",
    "lista_theta = np.array(lista_theta)\n",
    "logposterior = np.array(logposterior)\n",
    "\n",
    "#Defino el valor más probable como el pico de una pdf (probability density function)\n",
    "def max_prob(p_a, pdf_p_a):\n",
    "    ii = np.argmax(pdf_p_a)\n",
    "    return p_a[ii]\n",
    "\n",
    "#Defino el valor esperado (coincide con el promedio para N grande) como Int(P(x)*x)dx \n",
    "def mean(p_a, pdf_p_a):\n",
    "    return np.trapz(pdf_p_a*p_a, p_a)\n",
    "\n",
    "#Defino la desviacion estándar como la raiz de (<x**2>-<x>**2)\n",
    "def sigma(p_a, pdf_p_a):\n",
    "    m = mean(p_a, pdf_p_a)\n",
    "    s = np.trapz(pdf_p_a*p_a*p_a, p_a)\n",
    "    return np.sqrt(s - m**2)\n",
    "\n",
    "#Histrograma de las de velocidades estimadas por METROPOLIS y obtencion de valores caracteristicos de la PDF\n",
    "distro, bins,_ = plt.hist(lista_v, bins=100, density=True)\n",
    "plt.close() #Cierro el histograma porque después lo grafico otra vez\n",
    "\n",
    "mp = max_prob(bins[:-1], distro)\n",
    "m = mean(bins[:-1], distro)\n",
    "sig = sigma(bins[:-1], distro)\n",
    "\n",
    "\n",
    "\n",
    "#Este es el modo de imprimir los valores, tambien se puede hacer en la figura con str(Valores)\n",
    "\n",
    "Args = 'Velocidad Mas Prob. = {:.2f} km/s, Val. Esperado = {:.2f} km/s, Sigma={:.2f}'.format(mp, m, sig) \n",
    "\n",
    "plt.figure()\n",
    "plt.hist(lista_v, 110, color=\"green\")\n",
    "plt.title(Args)\n",
    "plt.xlabel(\"V (km/s)\")\n",
    "plt.ylabel(\"Densidad de Probabilidad\")\n",
    "plt.xlim(80,100)\n",
    "plt.grid()\n",
    "plt.legend()\n"
   ]
  },
  {
   "cell_type": "code",
   "execution_count": null,
   "metadata": {},
   "outputs": [],
   "source": []
  }
 ],
 "metadata": {
  "kernelspec": {
   "display_name": "Python 3",
   "language": "python",
   "name": "python3"
  },
  "language_info": {
   "codemirror_mode": {
    "name": "ipython",
    "version": 3
   },
   "file_extension": ".py",
   "mimetype": "text/x-python",
   "name": "python",
   "nbconvert_exporter": "python",
   "pygments_lexer": "ipython3",
   "version": "3.6.5"
  }
 },
 "nbformat": 4,
 "nbformat_minor": 2
}

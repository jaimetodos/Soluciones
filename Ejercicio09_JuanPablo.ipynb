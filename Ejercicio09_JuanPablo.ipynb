{
 "cells": [
  {
   "cell_type": "code",
   "execution_count": 38,
   "metadata": {
    "collapsed": false
   },
   "outputs": [
    {
     "data": {
      "image/png": "[encoded data removed]",
      "text/plain": [
       "<matplotlib.figure.Figure at 0x7f09a9e3cac8>"
      ]
     },
     "metadata": {},
     "output_type": "display_data"
    }
   ],
   "source": [
    "import numpy as np \n",
    "import matplotlib.pyplot as plt \n",
    "\n",
    "import pandas as pd\n",
    "\n",
    "data = pd.read_csv('years-lived-with-disability-vs-health-expenditure-per-capita.csv')\n",
    "data = data[data['Year'] == 2011]\n",
    "data = data.dropna() \n",
    "x = np.array(data['Health_expenditure_per_capita_PPP'])\n",
    "y = np.array(data['Years_Lived_With_Disability'])\n",
    "\n",
    "plt.scatter(x,y)\n",
    "plt.show()"
   ]
  },
  {
   "cell_type": "code",
   "execution_count": 58,
   "metadata": {
    "collapsed": true
   },
   "outputs": [],
   "source": [
    "###Usamos un modelo lineal\n",
    "def model(x_obs, m):\n",
    "    y_model = m[0]*x_obs + m[1]\n",
    "    return y_model\n",
    "\n",
    "###En un principio había  usado un likelihood gaussiano pero no tenía el sigma de los datos y jaime lo hace\n",
    "###Mucho más facil usando la función gamma \n",
    "def loglikelihood(x_obs, y_obs, m):\n",
    "    y_model = model(x_obs, m)\n",
    "    p = y_model * np.exp(-(y_model/y_obs))# gamma con k=2 https://en.wikipedia.org/wiki/Gamma_distribution\n",
    "    p = p/(y_obs**2)\n",
    "    p = np.log(p)\n",
    "    return np.sum(p)"
   ]
  },
  {
   "cell_type": "code",
   "execution_count": 67,
   "metadata": {
    "collapsed": false
   },
   "outputs": [],
   "source": [
    "#Definimos el prior, al final usé los mismos números que jaime por comodidad\n",
    "def logprior(m):\n",
    "    p = -np.inf\n",
    "    if np.abs(m[0] < 1E-2) and m[1] < 20 and m[1]>0:\n",
    "        area = 2.0 * 1E-2 * 20.0\n",
    "        p = np.log(1.0/area)\n",
    "    return p"
   ]
  },
  {
   "cell_type": "code",
   "execution_count": 87,
   "metadata": {
    "collapsed": false
   },
   "outputs": [
    {
     "data": {
      "image/png": "[encoded data removed]",
      "text/plain": [
       "<matplotlib.figure.Figure at 0x7f09a9825b70>"
      ]
     },
     "metadata": {},
     "output_type": "display_data"
    }
   ],
   "source": [
    "#esta es mi implementación, modifiqué los valores de lista_m y sigma_m con los de jaime porque con random.random() que es\n",
    "#como lo haciamos antes no daba.\n",
    "N = 50000\n",
    "lista_m = [np.array([1/8000.0, 10.0])]\n",
    "logposterior = [0]\n",
    "sigma_m = np.array([1E-4, 0.5])\n",
    "n_param = len(sigma_m)\n",
    "\n",
    "\n",
    "for i in range(1,N):\n",
    "    propuesta_m  = lista_m[i-1] + np.random.normal(size = n_param)*sigma_m\n",
    "    logposterior_viejo = loglikelihood(x, y, lista_m[i-1]) + logprior(lista_m[i-1])\n",
    "    logposterior_nuevo = loglikelihood(x, y, propuesta_m) + logprior(propuesta_m)\n",
    "\n",
    "    r = min(1,np.exp(logposterior_nuevo-logposterior_viejo))\n",
    "    k = np.random.random()\n",
    "    if(k<r):\n",
    "        lista_m.append(propuesta_m)\n",
    "        logposterior.append(logposterior_nuevo)\n",
    "    else:\n",
    "        lista_m.append(lista_m[i-1])\n",
    "        logposterior.append(logposterior_viejo)\n",
    "lista_m = np.array(lista_m)\n",
    "lista_m = lista_m[N//10:,:]\n",
    "logposterior = np.array(logposterior)\n",
    "logposterior = logposterior[N//10:]\n",
    "\n",
    "\n",
    "x_n = np.linspace(spending.min(), spending.max(), 100)\n",
    "y_model = model(x_n,[lista_m[:,0].mean(),lista_m[:,1].mean()])\n",
    "plt.scatter(x, y)\n",
    "plt.plot(x_n, y_model)\n",
    "plt.show()"
   ]
  },
  {
   "cell_type": "code",
   "execution_count": null,
   "metadata": {
    "collapsed": true
   },
   "outputs": [],
   "source": []
  }
 ],
 "metadata": {
  "kernelspec": {
   "display_name": "Python 3",
   "language": "python",
   "name": "python3"
  },
  "language_info": {
   "codemirror_mode": {
    "name": "ipython",
    "version": 3
   },
   "file_extension": ".py",
   "mimetype": "text/x-python",
   "name": "python",
   "nbconvert_exporter": "python",
   "pygments_lexer": "ipython3",
   "version": "3.6.0"
  }
 },
 "nbformat": 4,
 "nbformat_minor": 2
}

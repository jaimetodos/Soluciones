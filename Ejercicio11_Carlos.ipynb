{
 "cells": [
  {
   "cell_type": "markdown",
   "metadata": {},
   "source": [
    "# Ejercicio11"
   ]
  },
  {
   "cell_type": "markdown",
   "metadata": {},
   "source": [
    "Utilizando los datos en data/fitting.txt calcule la evidencia bayesiana para M modelos diferentes, donde cada modelo es un polinomio de orden m. Prepare una grafica de la evidencia como funcion del orden del polinomio. El prior para los coeficientes del polinomio debe ser uniforme entre -1 y 1, y el orden de los polinomios debe variar entre 0<=m<=20."
   ]
  },
  {
   "cell_type": "code",
   "execution_count": 1,
   "metadata": {},
   "outputs": [],
   "source": [
    "import numpy as np\n",
    "import matplotlib.pyplot as plt"
   ]
  },
  {
   "cell_type": "code",
   "execution_count": 2,
   "metadata": {},
   "outputs": [],
   "source": [
    "#Definimos el modelo de tal forma que nos sirva para un polinomio de cualquier grado.\n",
    "def model(x, c):\n",
    "    n_dim = len(c)\n",
    "    y = np.zeros(len(x))\n",
    "    for i in range(n_dim):\n",
    "        y += c[i] * (x**i)\n",
    "    return y"
   ]
  },
  {
   "cell_type": "markdown",
   "metadata": {},
   "source": [
    "Para usar Bayes planteamos la siguiente verosimilitud\n",
    "$$\n",
    "\\mathcal{L}({x_i, y_i, \\sigma_i}|m, b) = \\prod_{i=1}^{N}\\exp\\left[-\\frac{1}{2}\\left(\\frac{y_i - y_{model}(x_i, m, b)}{\\sigma_i}\\right)^2\\right]\n",
    "$$"
   ]
  },
  {
   "cell_type": "code",
   "execution_count": 3,
   "metadata": {},
   "outputs": [],
   "source": [
    "#Bueno, en realidad calculamos el logaritmo de la función de likelihood.\n",
    "def loglike(x_obs, y_obs, y_sigma_obs, params):\n",
    "    y_model = model(x_obs, params)\n",
    "    d = -0.5 * ((y_model - y_obs)/y_sigma_obs)**2\n",
    "    #Debemos agregarle un factor de normalización ya que básicamente nuestra función de verosimilitud tiene la forma\n",
    "    #de una gaussiana. Lo hacemos en este caso porque es necesaria la normalización para calcular la evidencia bayesiana.\n",
    "    norm = np.sqrt(2.0 * np.pi * y_sigma_obs **2)\n",
    "    #norm por ser un factor de normalización está en el denominador. Pero lo dejamos así y restamos su logaritmo para tener\n",
    "    #esto en cuenta.\n",
    "    #Con los logaritmos la multiplicatoria se vuelve una suma.\n",
    "    return np.sum(d - np.log(norm))"
   ]
  },
  {
   "cell_type": "code",
   "execution_count": 4,
   "metadata": {},
   "outputs": [],
   "source": [
    "#Definimos la evidencia bayesiana, que calcularemos para cada grado del polinomio. Por eso lo recibe como parámetro.\n",
    "def evidence(x_obs, y_obs, y_sigma_obs, n_dim=1, N = 100000):\n",
    "    #Generamos (N*n_dim) números aleatorios en este rango. Donde N es la cantidad de puntos aleatorios que generamos para cada \n",
    "    #parámetro.\n",
    "    #Aquí tenemos en cuenta que el prior esté entre -1 y 1.\n",
    "    params = np.random.random(N * n_dim) * 2.0 - 1.0\n",
    "    #El número de filas va a corresponder al número de iteraciones que queremos.\n",
    "    #El número de columnas corresponde al número de dimensiones (grado del polinomio). Así, este método funciona para \n",
    "    #cualquier polinomio.\n",
    "    params = np.reshape(params, [N, n_dim])\n",
    "    loglike_params = np.zeros(N)\n",
    "    #Calculamos la función de verosimilitud para cada set de parámetros aleatorios generado. Es decir, lo hacemos N veces.\n",
    "    for i in range(N):\n",
    "        loglike_params[i] = loglike(x_obs, y_obs, y_sigma_obs, params[i,:])\n",
    "    #La evidencia es el promedio de la función de verosimilitud para todos los puntos aleatorios generados.\n",
    "    e = np.exp(loglike_params)    \n",
    "    return np.mean(e)"
   ]
  },
  {
   "cell_type": "code",
   "execution_count": 6,
   "metadata": {},
   "outputs": [
    {
     "data": {
      "text/plain": [
       "Text(0,0.5,'y')"
      ]
     },
     "execution_count": 6,
     "metadata": {},
     "output_type": "execute_result"
    },
    {
     "data": {
      "image/png": "[encoded data removed]",
      "text/plain": [
       "<Figure size 432x288 with 1 Axes>"
      ]
     },
     "metadata": {},
     "output_type": "display_data"
    }
   ],
   "source": [
    "#Cargamos los datos y los graficamos\n",
    "data = np.loadtxt('fitting.txt')\n",
    "x_obs = data[:,0]\n",
    "y_obs = data[:,1]\n",
    "y_sigma_obs = data[:,2]\n",
    "plt.errorbar(x_obs, y_obs, y_sigma_obs, fmt='o')\n",
    "plt.xlabel('x')\n",
    "plt.ylabel('y')"
   ]
  },
  {
   "cell_type": "code",
   "execution_count": 11,
   "metadata": {},
   "outputs": [],
   "source": [
    "#Calculamos la evidencia para 21 dimensiones (grados del polinomio)\n",
    "n_dims = 21\n",
    "e = np.zeros(n_dims)\n",
    "for i in range(n_dims):\n",
    "    e[i] = evidence(x_obs, y_obs, y_sigma_obs, n_dim=i+1)"
   ]
  },
  {
   "cell_type": "code",
   "execution_count": 13,
   "metadata": {},
   "outputs": [
    {
     "data": {
      "text/plain": [
       "(0, 20)"
      ]
     },
     "execution_count": 13,
     "metadata": {},
     "output_type": "execute_result"
    },
    {
     "data": {
      "image/png": "[encoded data removed]",
      "text/plain": [
       "<Figure size 432x288 with 1 Axes>"
      ]
     },
     "metadata": {},
     "output_type": "display_data"
    }
   ],
   "source": [
    "#Graficamos los resultados. Notar el pico en el grado 7. Esto quiere decir que este fue el mejor fit para los datos observados.\n",
    "plt.scatter(range(n_dims),e, linewidth=4)\n",
    "plt.plot(range(n_dims),e)\n",
    "_ = plt.xticks(np.linspace(0,20,21))\n",
    "plt.xlim([0,20])"
   ]
  },
  {
   "cell_type": "code",
   "execution_count": null,
   "metadata": {},
   "outputs": [],
   "source": []
  }
 ],
 "metadata": {
  "kernelspec": {
   "display_name": "Python 3",
   "language": "python",
   "name": "python3"
  },
  "language_info": {
   "codemirror_mode": {
    "name": "ipython",
    "version": 3
   },
   "file_extension": ".py",
   "mimetype": "text/x-python",
   "name": "python",
   "nbconvert_exporter": "python",
   "pygments_lexer": "ipython3",
   "version": "3.6.5"
  }
 },
 "nbformat": 4,
 "nbformat_minor": 2
}

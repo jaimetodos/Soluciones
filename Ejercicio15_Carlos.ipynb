{
 "cells": [
  {
   "cell_type": "markdown",
   "metadata": {},
   "source": [
    "# Ejercicio 15"
   ]
  },
  {
   "cell_type": "markdown",
   "metadata": {},
   "source": [
    "Implemente (i.e. no reutilice funciones de scikit-learn):\n",
    "\n",
    "1. Leave-One-Out Cross-Validation\n",
    "\n",
    "2. k-Fold Cross-Validation\n",
    "\n",
    "para calcular el error cuadrático medio como función del orden polinomial de un ajuste de Price como funcion de Horsepower. Intente con polinomios de orden 1 hasta 10. Compare esas dos graficas con el Criterio de informacion Bayesiana como funcion del orden del polinomio.\n",
    "\n",
    "La solución debe estar en un notebook que asuma que el archivo de datos se encuentra en el mismo directorio que el notebook."
   ]
  },
  {
   "cell_type": "code",
   "execution_count": 2,
   "metadata": {},
   "outputs": [],
   "source": [
    "import numpy as np\n",
    "import pandas as pd\n",
    "import matplotlib.pyplot as plt"
   ]
  },
  {
   "cell_type": "code",
   "execution_count": 3,
   "metadata": {},
   "outputs": [],
   "source": [
    "#Leemos los datos\n",
    "data = pd.read_csv('Cars93.csv')"
   ]
  },
  {
   "cell_type": "code",
   "execution_count": 25,
   "metadata": {},
   "outputs": [],
   "source": [
    "#Definimos el modelo de tal forma que nos sirva para un polinomio de cualquier grado.\n",
    "#Lo definimos de esta manera porque más adelante la función polytfit nos devuelve los coeficientes del de mayor grado\n",
    "#al de menor grado.\n",
    "def model(x, coefs):\n",
    "    y = np.zeros(len(x))\n",
    "    p = len(coefs)\n",
    "    for i in range(p):\n",
    "        y += coefs[i] * x**(p-i-1)\n",
    "    return y\n",
    "#Definimos el error cuadrático medio.\n",
    "def mse(y_a, y_b):\n",
    "    d = (y_a - y_b)**2\n",
    "    return d.mean()"
   ]
  },
  {
   "cell_type": "markdown",
   "metadata": {},
   "source": [
    "Para usar Bayes planteamos la siguiente verosimilitud\n",
    "$$\n",
    "\\mathcal{L}({x_i, y_i, \\sigma_i}|m, b) = \\prod_{i=1}^{N}\\exp\\left[-\\frac{1}{2}\\left(\\frac{y_i - y_{model}(x_i, m, b)}{\\sigma_i}\\right)^2\\right]\n",
    "$$\n",
    "\n",
    "Además, usaremos el Bayesian Information Criterion, que para alta dimensionalidad se puede definir como: \n",
    "$$\n",
    "BIC=ln(p_n)k-2ln(\\hat L)\n",
    "$$\n",
    "\n",
    "Donde $p_n$ es el número de variables, $k$ es el número de parámetros en el modelo y $\\hat L$ es el logaritmo de la función de verosimilitud.\n",
    "Ver: https://en.wikipedia.org/wiki/Bayesian_information_criterion"
   ]
  },
  {
   "cell_type": "code",
   "execution_count": 26,
   "metadata": {},
   "outputs": [],
   "source": [
    "def bic(y_obs, y_model, p=2):\n",
    "    n = len(y_obs)\n",
    "    sigma = np.std(y_obs)\n",
    "    #Usamos el logaritmo de la función de verosimilitud.\n",
    "    loglike = np.sum(-0.5*(y_obs-y_model)**2/sigma**2)\n",
    "    #Debemos agregarle un factor de normalización ya que básicamente nuestra función de verosimilitud tiene la forma\n",
    "    #de una gaussiana. EL factor de normalización va dividiendo en la expresión para la verosimilitud pero en el logaritmo va\n",
    "    #restando. Y lo hace para el número de variables, n.\n",
    "    loglike -= n * np.log(np.sqrt(2.0 * np.pi * sigma**2))\n",
    "    return np.log(n) * (p+1) - 2.0*loglike"
   ]
  },
  {
   "cell_type": "markdown",
   "metadata": {},
   "source": [
    "Ahora haremos cross-validation. Esto es, partir el set de datos en diferentes grupos de train y validation.\n",
    "\n",
    "- Leave-one-out deja todos en train y coge uno solo para validation. Es decir, cada dato forma un grupo de validation, por lo que se tienen tantos grupos como número de datos.\n",
    "\n",
    "- K-fold parte el set en k grupos."
   ]
  },
  {
   "cell_type": "code",
   "execution_count": 27,
   "metadata": {},
   "outputs": [],
   "source": [
    "#Esta parte es genérica, no le interesa el método.\n",
    "def cross_validation(X, Y, n_groups=2, p=2):\n",
    "    n_points = len(Y)\n",
    "    #Crea un vector entre cero y el número de puntos (de a 1).\n",
    "    ids = np.arange(n_points)\n",
    "    #El operador modulo lo que hace es asignarle un grupo a cada dato de acuerdo con el número de grupos que se establezca.\n",
    "    #Digamos que número de grupos es 6. Entonces group_ids se verá: [0 1 2 3 4 5 6 0 1 2 3 4 5 6 ...] Es decir, el residuo\n",
    "    #con cada número va a variar de a 1 y se va a reiniciar con periodicidad igual al tamaño de grupos. Con esto le asignamos\n",
    "    #un grupo a cada dato.\n",
    "    group_ids = ids % n_groups\n",
    "    #Creamos un array para guardar los mses de cada grupo.\n",
    "    mse_groups = np.zeros(n_groups)\n",
    "    #Ahora creamos los grupos.\n",
    "    for i in range(n_groups):\n",
    "        #Todos los de un mismo grupo forman el set de validation.\n",
    "        ii = (group_ids ==i)\n",
    "        validation_X = X[ii]\n",
    "        #El resto corresponde al grupo de train.\n",
    "        train_X = X[~ii]\n",
    "        \n",
    "        #Partimos también Y.\n",
    "        validation_Y = Y[ii]\n",
    "        train_Y = Y[~ii]\n",
    "        \n",
    "        #Fiteamos el modelo con los datos de train. Polyfit nos devuelve los coeficientes del polinomio de grado p.\n",
    "        c = np.polyfit(train_X, train_Y, p)\n",
    "        #Predecimos los datos del set de validation.\n",
    "        Y_model = model(validation_X, c)\n",
    "        #Calculamos el mse para los datos de validation\n",
    "        mse_groups[i] = mse(Y_model, validation_Y)\n",
    "        \n",
    "    #Lo que devolvemos es la media de todos los grupos.\n",
    "    return mse_groups.mean()"
   ]
  },
  {
   "cell_type": "markdown",
   "metadata": {},
   "source": [
    "# Leave-One-Out"
   ]
  },
  {
   "cell_type": "markdown",
   "metadata": {},
   "source": [
    "Recordemos que Leave-one-out deja todos en train y coge uno solo para validation. Es decir, cada dato forma un grupo de validation, por lo que se tienen tantos grupos como número de datos."
   ]
  },
  {
   "cell_type": "code",
   "execution_count": 28,
   "metadata": {},
   "outputs": [
    {
     "data": {
      "text/plain": [
       "Text(0,0.5,'Leave One Out MSE')"
      ]
     },
     "execution_count": 28,
     "metadata": {},
     "output_type": "execute_result"
    },
    {
     "data": {
      "image/png": "[encoded data removed]",
      "text/plain": [
       "<Figure size 432x288 with 1 Axes>"
      ]
     },
     "metadata": {},
     "output_type": "display_data"
    }
   ],
   "source": [
    "X = np.array(data['Horsepower'], dtype=float)\n",
    "Y = np.array(data['Price'], dtype=float)\n",
    "\n",
    "degrees = np.arange(11)\n",
    "n_degrees = len(degrees)\n",
    "SV_leave_one_out = np.zeros(n_degrees)\n",
    "\n",
    "#Lo hacemos para cada grado de polinomio. El número de grupos es el mismo número de datos.\n",
    "for i in range(n_degrees):\n",
    "    SV_leave_one_out[i]  = cross_validation(X,Y, n_groups=len(X), p=degrees[i])\n",
    "\n",
    "plt.plot(degrees, SV_leave_one_out)\n",
    "plt.xlabel(\"degree\")\n",
    "plt.ylabel(\"Leave One Out MSE\")"
   ]
  },
  {
   "cell_type": "markdown",
   "metadata": {},
   "source": [
    "# K-fold"
   ]
  },
  {
   "cell_type": "markdown",
   "metadata": {},
   "source": [
    "K-fold por su parte, divide el set de datos en k grupos. Tomaremos k=10"
   ]
  },
  {
   "cell_type": "code",
   "execution_count": 29,
   "metadata": {},
   "outputs": [
    {
     "data": {
      "text/plain": [
       "Text(0,0.5,'k-fold MSE (k=10)')"
      ]
     },
     "execution_count": 29,
     "metadata": {},
     "output_type": "execute_result"
    },
    {
     "data": {
      "image/png": "[encoded data removed]",
      "text/plain": [
       "<Figure size 432x288 with 1 Axes>"
      ]
     },
     "metadata": {},
     "output_type": "display_data"
    }
   ],
   "source": [
    "X = np.array(data['Horsepower'], dtype=float)\n",
    "Y = np.array(data['Price'], dtype=float)\n",
    "\n",
    "degrees = np.arange(11)\n",
    "n_degrees = len(degrees)\n",
    "SV_kfold = np.zeros(n_degrees)\n",
    "\n",
    "for i in range(n_degrees):\n",
    "    SV_kfold[i]  = cross_validation(X,Y, n_groups=10, p=degrees[i])\n",
    "\n",
    "plt.plot(degrees, SV_kfold)\n",
    "plt.xlabel(\"degree\")\n",
    "plt.ylabel(\"k-fold MSE (k=10)\")"
   ]
  },
  {
   "cell_type": "markdown",
   "metadata": {},
   "source": [
    "# Bayesian Information Criterion"
   ]
  },
  {
   "cell_type": "code",
   "execution_count": 30,
   "metadata": {},
   "outputs": [
    {
     "data": {
      "text/plain": [
       "Text(0,0.5,'Bayesian Information Criterion')"
      ]
     },
     "execution_count": 30,
     "metadata": {},
     "output_type": "execute_result"
    },
    {
     "data": {
      "image/png": "[encoded data removed]",
      "text/plain": [
       "<Figure size 432x288 with 1 Axes>"
      ]
     },
     "metadata": {},
     "output_type": "display_data"
    }
   ],
   "source": [
    "X = np.array(data['Horsepower'], dtype=float)\n",
    "Y = np.array(data['Price'], dtype=float)\n",
    "\n",
    "degrees = np.arange(11)\n",
    "n_degrees = len(degrees)\n",
    "BIC_degree = np.zeros(n_degrees)\n",
    "\n",
    "for i in range(n_degrees):\n",
    "    c = np.polyfit(X, Y, degrees[i])\n",
    "    Y_model = model(X, c)\n",
    "    BIC_degree[i] = bic(Y, Y_model, p=degrees[i])\n",
    "\n",
    "plt.plot(degrees, BIC_degree)\n",
    "plt.xlabel(\"degree\")\n",
    "plt.ylabel(\"Bayesian Information Criterion\")"
   ]
  },
  {
   "cell_type": "markdown",
   "metadata": {},
   "source": [
    "# Notar que todos convergen en que el polinomio de grado 1 es el de menor MSE"
   ]
  },
  {
   "cell_type": "code",
   "execution_count": null,
   "metadata": {},
   "outputs": [],
   "source": []
  }
 ],
 "metadata": {
  "kernelspec": {
   "display_name": "Python 3",
   "language": "python",
   "name": "python3"
  },
  "language_info": {
   "codemirror_mode": {
    "name": "ipython",
    "version": 3
   },
   "file_extension": ".py",
   "mimetype": "text/x-python",
   "name": "python",
   "nbconvert_exporter": "python",
   "pygments_lexer": "ipython3",
   "version": "3.6.5"
  }
 },
 "nbformat": 4,
 "nbformat_minor": 2
}

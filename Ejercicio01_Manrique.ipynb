{
 "cells": [
  {
   "cell_type": "markdown",
   "metadata": {},
   "source": [
    "# Exercise 1.1\n",
    "\n",
    "Compute the number of seconds since the day you were born"
   ]
  },
  {
   "cell_type": "code",
   "execution_count": 1,
   "metadata": {},
   "outputs": [
    {
     "name": "stdout",
     "output_type": "stream",
     "text": [
      "Num. de segundos desde nacimiento\n",
      "18943055700\n"
     ]
    }
   ],
   "source": [
    "an=20\n",
    "mes=8\n",
    "dia=8\n",
    "hora=7\n",
    "minu=55\n",
    "print('Num. de segundos desde nacimiento')\n",
    "print((((((an*365)+mes)*30+dia)*24+hora)*60+minu)*60)"
   ]
  },
  {
   "cell_type": "markdown",
   "metadata": {},
   "source": [
    "# Exercise 1.2\n",
    "\n",
    "Compute the value for the golden ratio number $(1+\\sqrt{5})/2$"
   ]
  },
  {
   "cell_type": "code",
   "execution_count": 2,
   "metadata": {},
   "outputs": [
    {
     "name": "stdout",
     "output_type": "stream",
     "text": [
      "1.618033988749895\n"
     ]
    }
   ],
   "source": [
    "import numpy as np\n",
    "print ((1+np.sqrt(5))/2)"
   ]
  },
  {
   "cell_type": "markdown",
   "metadata": {},
   "source": [
    "# Exercise 2.01\n",
    "\n",
    "* Define a list with the integers from 1 to 10 and use slicing print the second half of the list."
   ]
  },
  {
   "cell_type": "code",
   "execution_count": 3,
   "metadata": {},
   "outputs": [
    {
     "name": "stdout",
     "output_type": "stream",
     "text": [
      "[6, 7, 8, 9, 10]\n"
     ]
    }
   ],
   "source": [
    "inte=[1,2,3,4,5,6,7,8,9,10]\n",
    "lpos=int(len(inte)/2)\n",
    "print (inte[lpos:])"
   ]
  },
  {
   "cell_type": "markdown",
   "metadata": {},
   "source": [
    "# Exercise 2.02\n",
    "\n",
    "* Build a list with 100 repetitions off the sequence `1`, `-1` (i.e. `[1,-1,1,-1,1,-1,...]`)"
   ]
  },
  {
   "cell_type": "code",
   "execution_count": 4,
   "metadata": {},
   "outputs": [
    {
     "name": "stdout",
     "output_type": "stream",
     "text": [
      "[1, -1, 1, -1, 1, -1, 1, -1, 1, -1, 1, -1, 1, -1, 1, -1, 1, -1, 1, -1, 1, -1, 1, -1, 1, -1, 1, -1, 1, -1, 1, -1, 1, -1, 1, -1, 1, -1, 1, -1, 1, -1, 1, -1, 1, -1, 1, -1, 1, -1, 1, -1, 1, -1, 1, -1, 1, -1, 1, -1, 1, -1, 1, -1, 1, -1, 1, -1, 1, -1, 1, -1, 1, -1, 1, -1, 1, -1, 1, -1, 1, -1, 1, -1, 1, -1, 1, -1, 1, -1, 1, -1, 1, -1, 1, -1, 1, -1, 1, -1, 1, -1, 1, -1, 1, -1, 1, -1, 1, -1, 1, -1, 1, -1, 1, -1, 1, -1, 1, -1, 1, -1, 1, -1, 1, -1, 1, -1, 1, -1, 1, -1, 1, -1, 1, -1, 1, -1, 1, -1, 1, -1, 1, -1, 1, -1, 1, -1, 1, -1, 1, -1, 1, -1, 1, -1, 1, -1, 1, -1, 1, -1, 1, -1, 1, -1, 1, -1, 1, -1, 1, -1, 1, -1, 1, -1, 1, -1, 1, -1, 1, -1, 1, -1, 1, -1, 1, -1, 1, -1, 1, -1, 1, -1, 1, -1, 1, -1, 1, -1]\n"
     ]
    }
   ],
   "source": [
    "l202=[1,-1]\n",
    "print (l202*100)"
   ]
  },
  {
   "cell_type": "markdown",
   "metadata": {},
   "source": [
    "# Exercise 2.03\n",
    "\n",
    "* Build a list that contains a `1` surrounded by 15 zeroes on the left and the right."
   ]
  },
  {
   "cell_type": "code",
   "execution_count": 5,
   "metadata": {},
   "outputs": [
    {
     "name": "stdout",
     "output_type": "stream",
     "text": [
      "[0, 0, 0, 0, 0, 0, 0, 0, 0, 0, 0, 0, 0, 0, 0, 1, 0, 0, 0, 0, 0, 0, 0, 0, 0, 0, 0, 0, 0, 0, 0]\n"
     ]
    }
   ],
   "source": [
    "a=[0]\n",
    "b=[1]\n",
    "print (a*15+b+a*15)"
   ]
  },
  {
   "cell_type": "markdown",
   "metadata": {},
   "source": [
    "# Exercise 2.04\n",
    "\n",
    "* Compute the median of the following list\n",
    "\n",
    "`a = [21, 48, 79, 60, 77, \n",
    "    15, 43, 90,  5,  49, \n",
    "    15, 52, 20, 70, 55,  \n",
    "    4, 86, 49, 87, 59]`"
   ]
  },
  {
   "cell_type": "code",
   "execution_count": 7,
   "metadata": {},
   "outputs": [
    {
     "name": "stdout",
     "output_type": "stream",
     "text": [
      "52\n"
     ]
    }
   ],
   "source": [
    "a = [21, 48, 79, 60, 77, 15, 43, 90, 5, 49, 15, 52, 20, 70, 55, 4, 86, 49, 87, 59]\n",
    "asort=sorted(a)\n",
    "lpos=int(len(a)/2)\n",
    "print (asort[lpos])"
   ]
  },
  {
   "cell_type": "markdown",
   "metadata": {},
   "source": [
    "# Exercise 3.01\n",
    "\n",
    "Create a dictionary with the integers `0` to `4` as keys and the vowels (a, e, i, o u) as values."
   ]
  },
  {
   "cell_type": "code",
   "execution_count": 8,
   "metadata": {},
   "outputs": [],
   "source": [
    "lista={1:\"a\",2:\"e\",3:\"i\",4:\"o\",5:\"u\"}"
   ]
  },
  {
   "cell_type": "markdown",
   "metadata": {},
   "source": [
    "# Exercise 3.02\n",
    "\n",
    "Use the following dictionary of dictionaries to create a new dictionary that has the same keys and the values correspond to the total number of hours used in all activities."
   ]
  },
  {
   "cell_type": "code",
   "execution_count": 10,
   "metadata": {},
   "outputs": [],
   "source": [
    "activities = {\n",
    "    'Monday': {'study':4, 'sleep':8, 'party':0},\n",
    "    'Tuesday': {'study':8, 'sleep':4, 'party':0},\n",
    "    'Wednesday': {'study':8, 'sleep':4, 'party':0},\n",
    "    'Thursday': {'study':4, 'sleep':4, 'party':4},\n",
    "    'Friday': {'study':1, 'sleep':4, 'party':8},\n",
    "}"
   ]
  },
  {
   "cell_type": "code",
   "execution_count": 11,
   "metadata": {},
   "outputs": [
    {
     "name": "stdout",
     "output_type": "stream",
     "text": [
      "{'Monday': 12, 'Tuesday': 12, 'Wednesday': 12, 'Thursday': 12, 'Friday': 13}\n"
     ]
    }
   ],
   "source": [
    "ndic={}\n",
    "for i in activities.keys():\n",
    "    a=activities[i]\n",
    "    b=0\n",
    "    for j in a:\n",
    "        b+=a[j]\n",
    "    ndic[i]=b\n",
    "print (ndic) "
   ]
  },
  {
   "cell_type": "markdown",
   "metadata": {},
   "source": [
    "Write a for cycle that prints the sequence: 5, 4, 3, 2, 1, 0."
   ]
  },
  {
   "cell_type": "code",
   "execution_count": 6,
   "metadata": {},
   "outputs": [
    {
     "name": "stdout",
     "output_type": "stream",
     "text": [
      "5\n",
      "4\n",
      "3\n",
      "2\n",
      "1\n",
      "0\n"
     ]
    }
   ],
   "source": [
    "for i in range(5,-1,-1):\n",
    "    print(i)"
   ]
  },
  {
   "cell_type": "markdown",
   "metadata": {},
   "source": [
    "Use random.random() and a for cycle to compute the sum of 100 random numbers."
   ]
  },
  {
   "cell_type": "code",
   "execution_count": 7,
   "metadata": {},
   "outputs": [
    {
     "name": "stdout",
     "output_type": "stream",
     "text": [
      "47.94320299484085\n"
     ]
    }
   ],
   "source": [
    "import random\n",
    "suma = 0\n",
    "for i in range(100):\n",
    "    suma += random.random()\n",
    "\n",
    "print(suma)"
   ]
  },
  {
   "cell_type": "markdown",
   "metadata": {},
   "source": [
    "Use the results from the previous exercise to compute the standard deviation of a list of 1000 numbers where each number is itself the sum of N=100 random numbers. What is the answer if N=200? N=300?\n",
    "\n"
   ]
  },
  {
   "cell_type": "code",
   "execution_count": 10,
   "metadata": {},
   "outputs": [
    {
     "name": "stdout",
     "output_type": "stream",
     "text": [
      "300 149.84114969524018 5.165598775532124 5.0\n"
     ]
    }
   ],
   "source": [
    "import math\n",
    "n_in_list = 1000\n",
    "N = 300\n",
    "lista = []\n",
    "\n",
    "for i in range(n_in_list):\n",
    "    suma = 0\n",
    "    for i in range(N):\n",
    "        suma += random.random()\n",
    "    lista.append(suma)\n",
    "\n",
    "suma = 0\n",
    "for i in range(n_in_list):\n",
    "    suma += lista[i]\n",
    "\n",
    "promedio = suma/len(lista)\n",
    "\n",
    "suma = 0\n",
    "for i in range(n_in_list):\n",
    "    suma += (lista[i] - promedio)**2\n",
    "\n",
    "stddev = math.sqrt(suma/(len(lista) - 1))\n",
    "\n",
    "print(N, promedio, stddev, math.sqrt(N/12))"
   ]
  },
  {
   "cell_type": "markdown",
   "metadata": {},
   "source": [
    "Compute how many times, on average, do you have to throw a die (with only six faces) in order to reach reach a minimum of 100 points. In this game you start with 0 points, you throw the die and add the number you get to the total account. Use the results of random.random() to implement the die throw.\n",
    "\n"
   ]
  },
  {
   "cell_type": "code",
   "execution_count": null,
   "metadata": {},
   "outputs": [],
   "source": [
    "n_games = 10000\n",
    "n_try = []\n",
    "for i in range(n_games):\n",
    "    n = 0\n",
    "    points = 0\n",
    "    while(points < 100):\n",
    "        i = (random.random()*6)//1 + 1\n",
    "        points += i\n",
    "        n += 1\n",
    "    n_try.append(n)\n",
    "    \n",
    "\n",
    "suma = 0\n",
    "for i in range(n_games):\n",
    "    suma += n_try[i]\n",
    "\n",
    "promedio = suma/len(n_try)\n",
    "print(promedio)"
   ]
  },
  {
   "cell_type": "markdown",
   "metadata": {},
   "source": [
    "Define a function distance that takes as arguments two lists a,b and computes the Euclidean distance between the two:\n"
   ]
  },
  {
   "cell_type": "code",
   "execution_count": 11,
   "metadata": {},
   "outputs": [
    {
     "name": "stdout",
     "output_type": "stream",
     "text": [
      "1.4142135623730951\n",
      "3.1622776601683795\n",
      "3.4641016151377544\n"
     ]
    }
   ],
   "source": [
    "def distance(a,b):\n",
    "    n = len(a)\n",
    "    d = 0.0\n",
    "    for i in range(n):\n",
    "        d += (a[i] -b[i])**2\n",
    "    d = math.sqrt(d)\n",
    "    return d\n",
    "\n",
    "print(distance([0,0], [1,1]))\n",
    "print(distance([1,5], [2,2]))\n",
    "print(distance([0,1,2], [2,3,4]))"
   ]
  },
  {
   "cell_type": "markdown",
   "metadata": {},
   "source": [
    "Redefine the class Circle to include a new method called perimeter that returns the value of the circle's perimeter.\n",
    "\n"
   ]
  },
  {
   "cell_type": "code",
   "execution_count": null,
   "metadata": {},
   "outputs": [],
   "source": [
    "class Circle:\n",
    "    def __init__(self, radius):\n",
    "        self.radius = radius #all attributes must be preceded by \"self.\"\n",
    "    def area(self):\n",
    "        import math\n",
    "        return math.pi * self.radius * self.radius\n",
    "    def perimeter(self):\n",
    "        import math\n",
    "return 2.0 * math.pi * self.radius"
   ]
  },
  {
   "cell_type": "markdown",
   "metadata": {},
   "source": [
    "Define the class Vector3D to represent vectors in 3D. The class must have three attributes: x, y, and z, to store the coordinates and a method called dot that computes the dot product"
   ]
  },
  {
   "cell_type": "code",
   "execution_count": 12,
   "metadata": {},
   "outputs": [
    {
     "name": "stdout",
     "output_type": "stream",
     "text": [
      "5\n"
     ]
    }
   ],
   "source": [
    "class Vector3D:\n",
    "    def __init__(self, x, y, z):\n",
    "        self.x = x\n",
    "        self.y = y\n",
    "        self.z = z\n",
    "    def dot(self, v):\n",
    "        return self.x  * v.x + self.y * v.y + self.z * v.z\n",
    "\n",
    "v = Vector3D(2, 0, 1)\n",
    "w = Vector3D(1, -1, 3)\n",
    "print(v.dot(w))"
   ]
  },
  {
   "cell_type": "markdown",
   "metadata": {},
   "source": [
    "Import the module random and use the function shuffle to shuffle the contents of a list that has the integers from 0 to 9. Print the list before and after shuffling. Use random.shuffle? to read the documentation string for that function."
   ]
  },
  {
   "cell_type": "code",
   "execution_count": 13,
   "metadata": {},
   "outputs": [
    {
     "name": "stdout",
     "output_type": "stream",
     "text": [
      "[0, 1, 2, 3, 4, 5, 6, 7, 8, 9]\n",
      "[0, 9, 5, 4, 6, 7, 2, 3, 8, 1]\n"
     ]
    }
   ],
   "source": [
    "import random\n",
    "\n",
    "a = list(range(10))\n",
    "print(a)\n",
    "random.shuffle(a)\n",
    "print(a)"
   ]
  },
  {
   "cell_type": "code",
   "execution_count": null,
   "metadata": {},
   "outputs": [],
   "source": []
  }
 ],
 "metadata": {
  "kernelspec": {
   "display_name": "Python 3",
   "language": "python",
   "name": "python3"
  },
  "language_info": {
   "codemirror_mode": {
    "name": "ipython",
    "version": 3
   },
   "file_extension": ".py",
   "mimetype": "text/x-python",
   "name": "python",
   "nbconvert_exporter": "python",
   "pygments_lexer": "ipython3",
   "version": "3.6.7"
  }
 },
 "nbformat": 4,
 "nbformat_minor": 2
}

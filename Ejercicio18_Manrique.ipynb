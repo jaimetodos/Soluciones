{
 "cells": [
  {
   "cell_type": "code",
   "execution_count": 1,
   "metadata": {},
   "outputs": [],
   "source": [
    "import numpy as np\n",
    "import pandas as pd\n",
    "import matplotlib.pyplot as plt\n",
    "import sklearn.linear_model\n",
    "import sklearn.model_selection\n",
    "import sklearn.preprocessing\n",
    "import scipy.integrate\n",
    "import sklearn.discriminant_analysis\n",
    "import itertools\n",
    "%matplotlib inline"
   ]
  },
  {
   "cell_type": "markdown",
   "metadata": {},
   "source": [
    "Utilizando los datos de Default construya una curva  de precision-recall con los resultados del modelo regresión logística \n",
    "(http://scikit-learn.org/stable/auto_examples/model_selection/plot_precision_recall.html). \n",
    "Escriba su propia función. No utilice la de sklearn."
   ]
  },
  {
   "cell_type": "code",
   "execution_count": 2,
   "metadata": {},
   "outputs": [
    {
     "name": "stderr",
     "output_type": "stream",
     "text": [
      "/home/nicomn97/.local/lib/python3.6/site-packages/sklearn/linear_model/logistic.py:432: FutureWarning: Default solver will be changed to 'lbfgs' in 0.22. Specify a solver to silence this warning.\n",
      "  FutureWarning)\n"
     ]
    },
    {
     "data": {
      "text/plain": [
       "(0, 1)"
      ]
     },
     "execution_count": 2,
     "metadata": {},
     "output_type": "execute_result"
    },
    {
     "data": {
      "image/png": "[encoded data removed]",
      "text/plain": [
       "<Figure size 720x360 with 2 Axes>"
      ]
     },
     "metadata": {
      "needs_background": "light"
     },
     "output_type": "display_data"
    }
   ],
   "source": [
    "#Se cargan los datos. Valor a predecir : default (variable binaria)\n",
    "url=\"https://vincentarelbundock.github.io/Rdatasets/csv/ISLR/Default.csv\"\n",
    "data=pd.read_csv(url)\n",
    "#Se predice a partir de : balance\n",
    "Y = data['default']\n",
    "X = data[['balance']]\n",
    "# Se inicia Logistic Regression de sklearn\n",
    "f = sklearn.linear_model.LogisticRegression()\n",
    "\n",
    "# Se separa el grupo de train del de test (0.7 train, 0.3 test)\n",
    "X_train, X_test, Y_train, Y_test = sklearn.model_selection.train_test_split(X,Y, test_size=0.3)\n",
    "\n",
    "# Se ajusta el modelo a partir de train\n",
    "f.fit(X_train, Y_train)\n",
    "\n",
    "# Se predice default para el balance del grupo de prueba\n",
    "predict = f.predict(X_test)\n",
    "\n",
    "# Probabilidad de que default sea 'Yes'\n",
    "proba_yes = f.predict_proba(X_test)[:,1]\n",
    "\n",
    "# Se asignan n_p valores entre 0 y 0.99\n",
    "# Se planea encontrar el numero de falsos positivos y negativos, y verdaderos positivos y negativos\n",
    "# clasificando como 'si' a los eventos con probabilidad superior a la de threshold\n",
    "n_p = 1000\n",
    "error_rate = np.zeros(n_p)\n",
    "precision = np.zeros(n_p)\n",
    "recall = np.zeros(n_p)\n",
    "tp_rate = np.zeros(n_p)\n",
    "fp_rate = np.zeros(n_p)\n",
    "threshold = np.linspace(0,0.99, n_p)\n",
    "\n",
    "# Se adjuntan a las listas de verdadero positivo y falso positivo para el barrido de la lista de threshold\n",
    "for i in range(n_p):\n",
    "    # Si p>p_threshold, se asigna 'Yes', de lo contrario, 'NO'\n",
    "    ii = proba_yes>threshold[i]\n",
    "    predict[ii] = 'Yes'\n",
    "    predict[~ii] = 'No'\n",
    "    # Conteo de verdaderos positivos y negativos y falsos positivos y negativos\n",
    "    true_positive = (Y_test == 'Yes') & (predict == 'Yes') \n",
    "    false_positive = (Y_test == 'No') & (predict == 'Yes')\n",
    "    false_negative = (Y_test == 'Yes') & (predict == 'No')\n",
    "    true_negative = (Y_test == 'No') & (predict == 'No')\n",
    "    n_tp = np.count_nonzero(true_positive)\n",
    "    n_fp= np.count_nonzero(false_positive)\n",
    "    n_fn = np.count_nonzero(false_negative)\n",
    "    n_tn = np.count_nonzero(true_negative)\n",
    "    # Se adjuntan los valores de precision, recall y rata de falsos positivos a las listas\n",
    "    if((n_tp+n_fp)>0): precision[i] = n_tp/(n_tp + n_fp)\n",
    "    if((n_tp+n_fn)>0): recall[i] = n_tp/(n_tp + n_fn); tp_rate[i] = recall[i]  \n",
    "    if((n_fp+n_tn)>0): fp_rate[i] = n_fp/(n_fp+n_tn)\n",
    "\n",
    "        \n",
    "# Se grafica la curva de precision recall\n",
    "plt.figure(figsize=(10,5))\n",
    "plt.subplot(1,2,1)\n",
    "plt.plot(recall, precision)\n",
    "plt.xlabel('RECALL')\n",
    "plt.ylabel('PRECISION')\n",
    "plt.title('PRECISION-RECALL')\n",
    "plt.xlim([0,1])\n",
    "plt.ylim([0,1])\n",
    "\n",
    "# Se grafica la cueva de ROC\n",
    "plt.subplot(1,2,2)\n",
    "plt.plot(fp_rate, tp_rate)\n",
    "plt.xlabel('FALSE POSITIVE RATE')\n",
    "plt.ylabel('TRUE POSITIVE RATE')\n",
    "plt.title('ROC')\n",
    "plt.xlim([0,1])\n",
    "plt.ylim([0,1])\n"
   ]
  },
  {
   "cell_type": "markdown",
   "metadata": {},
   "source": [
    "b) \n",
    "Utilizando el siguiente dataset\n",
    "\n",
    "https://vincentarelbundock.github.io/Rdatasets/doc/MASS/Boston.html \n",
    "https://vincentarelbundock.github.io/Rdatasets/csv/MASS/Boston.csv\n",
    "\n",
    "encuentre los mejores predictores para saber si un suburbio tiene una rata de crimen mayor o menor a la media. \n",
    "Utilice LDA y regresion logistica junto a curvas ROC y Precision-Recall para justificar su respuesta."
   ]
  },
  {
   "cell_type": "code",
   "execution_count": 3,
   "metadata": {},
   "outputs": [],
   "source": [
    "#Funcion que devuelve resumen de ajuste para predictores del modelo\n",
    "def summary_fit(X, Y, f_method, plot=True):\n",
    "    # Se separa el grupo de train del de test\n",
    "    X_train, X_test, Y_train, Y_test = sklearn.model_selection.train_test_split(X,Y, test_size=0.4)\n",
    "\n",
    "    # Se ajusta el modelo a partir de train\n",
    "    f_method.fit(X_train, Y_train)\n",
    "\n",
    "    # Se predice ea partir de test\n",
    "    predict = f_method.predict(X_test)\n",
    "\n",
    "    # Probabilidad de la clase '+'\n",
    "    proba_yes = f_method.predict_proba(X_test)[:,1]\n",
    "\n",
    "    # Se asignan n_p valores entre 0 y 0.99\n",
    "    # Se planea encontrar el numero de falsos positivos y negativos, y verdaderos positivos y negativos\n",
    "    # clasificando como 'si' a los eventos con probabilidad superior a la de threshold\n",
    "    n_p = 100\n",
    "    error_rate = np.zeros(n_p)\n",
    "    precision = np.zeros(n_p)\n",
    "    recall = np.zeros(n_p)\n",
    "    tp_rate = np.zeros(n_p)\n",
    "    fp_rate = np.zeros(n_p)\n",
    "    threshold = np.linspace(0,0.99, n_p)\n",
    "\n",
    "    # Se adjuntan a las listas de verdadero positivo y falso positivo para el barrido de la lista de threshold\n",
    "    for i in range(n_p):\n",
    "        ii = proba_yes>threshold[i]\n",
    "        predict[ii] = 'Yes'\n",
    "        predict[~ii] = 'No'\n",
    "        true_positive = (Y_test == 'Yes') & (predict == 'Yes') \n",
    "        false_positive = (Y_test == 'No') & (predict == 'Yes')\n",
    "        false_negative = (Y_test == 'Yes') & (predict == 'No')\n",
    "        true_negative = (Y_test == 'No') & (predict == 'No')\n",
    "        n_tp = np.count_nonzero(true_positive)\n",
    "        n_fp= np.count_nonzero(false_positive)\n",
    "        n_fn = np.count_nonzero(false_negative)\n",
    "        n_tn = np.count_nonzero(true_negative)\n",
    "        if((n_tp+n_fp)>0): precision[i] = n_tp/(n_tp + n_fp)\n",
    "        if((n_tp+n_fn)>0): recall[i] = n_tp/(n_tp + n_fn); tp_rate[i] = recall[i]  \n",
    "        if((n_fp+n_tn)>0): fp_rate[i] = n_fp/(n_fp+n_tn)\n",
    "\n",
    "    # Area bajo la curva de Precision Recall\n",
    "    ii = np.argsort(recall)\n",
    "    pr_area = scipy.integrate.trapz(precision[ii], recall[ii])\n",
    "    \n",
    "    # Area bajo la curva de ROC\n",
    "    ii = np.argsort(fp_rate)\n",
    "    roc_area = scipy.integrate.trapz(tp_rate[ii], fp_rate[ii])\n",
    "            \n",
    "    # Calculo de F1\n",
    "    F1 = np.max(2.0*precision*recall/(precision+recall+1E-12))\n",
    "    if plot:\n",
    "        l = 'Predictors:'\n",
    "        for k in X.keys(): \n",
    "            l=l+' '+k\n",
    "        \n",
    "        plt.figure(figsize=(10,5))\n",
    "        plt.subplot(1,2,1)\n",
    "        plt.plot(recall, precision)\n",
    "        plt.xlabel('RECALL')\n",
    "        plt.ylabel('PRECISION')\n",
    "        plt.title('PRECISION-RECALL, AREA={:.2f}'.format(pr_area))\n",
    "        plt.xlim([0,1])\n",
    "        plt.ylim([0,1])\n",
    "\n",
    "        plt.subplot(1,2,2)\n",
    "        plt.plot(fp_rate, tp_rate, label=l)\n",
    "        plt.xlabel('FALSE POSITIVE RATE')\n",
    "        plt.ylabel('TRUE POSITIVE RATE')\n",
    "        plt.title('ROC, AREA={:.2f}'.format(roc_area))\n",
    "        plt.xlim([0,1])\n",
    "        plt.ylim([0,1])\n",
    "        plt.legend()\n",
    "    return {'pr_area':pr_area, 'roc_area':roc_area, 'F1':F1}"
   ]
  },
  {
   "cell_type": "code",
   "execution_count": 4,
   "metadata": {},
   "outputs": [],
   "source": [
    "#Funcion para encontrar mejores predictores\n",
    "\n",
    "def find_best_predictors(X, Y, all_predictors, f_method):\n",
    "    best = {'pr_area':0.0, 'roc_area':0.0, 'F1':0.0, 'predictors':''}\n",
    "\n",
    "    # Barrido sobre todos los predictores\n",
    "    for n_predictors in range(1,len(all_predictors)+1):\n",
    "    \n",
    "        # Todas las combinaciones de predictores de longitud n_predictors\n",
    "        combinations = itertools.combinations(all_predictors, n_predictors)\n",
    "        for c in combinations:\n",
    "            predictors = list(c)\n",
    "            X_in = X[predictors]\n",
    "\n",
    "            # para n_predictors = 1\n",
    "            if(n_predictors==1): \n",
    "                print('Trying these predictors', predictors)\n",
    "                areas = summary_fit(X_in, Y, f, plot=False)\n",
    "            else:\n",
    "                intersection = list(set(best['predictors']) & set(predictors))\n",
    "                # Solo se usan los predictores que se encuentran en la lista de mejores predictores\n",
    "                if len(intersection)==len(best['predictors']):\n",
    "                    print('Trying these predictors', predictors)\n",
    "                    areas = summary_fit(X_in, Y, f, plot=False)\n",
    "                    \n",
    "            # Se actualiza si se mejora el F1 score, el area bajo la curva precision recall y ROC\n",
    "            if areas['pr_area']>best['pr_area'] and areas['roc_area']>best['roc_area'] and areas['F1'] > best['F1']:\n",
    "                best['pr_area'] = areas['pr_area']\n",
    "                best['roc_area'] = areas['roc_area']\n",
    "                best['F1'] = areas['F1']\n",
    "                best['predictors'] = predictors\n",
    "                print('\\t\\t UPDATED BEST RESULTS: {}'.format(best))\n",
    "    #Devuelve los mejores indicadores\n",
    "    return best"
   ]
  },
  {
   "cell_type": "code",
   "execution_count": 5,
   "metadata": {},
   "outputs": [
    {
     "name": "stdout",
     "output_type": "stream",
     "text": [
      "Index(['Unnamed: 0', 'mpg', 'cylinders', 'displacement', 'horsepower',\n",
      "       'weight', 'acceleration', 'year', 'origin', 'name'],\n",
      "      dtype='object')\n"
     ]
    }
   ],
   "source": [
    "# Lectura de archivo\n",
    "data = pd.read_csv('https://vincentarelbundock.github.io/Rdatasets/csv/ISLR/Auto.csv')\n",
    "print(data.keys())\n",
    "\n",
    "mpgbinary = np.repeat('Yes', len(data))\n",
    "ii = np.array(data['mpg']>np.mean(data['mpg']))\n",
    "mpgbinary[ii] = 'Yes'\n",
    "mpgbinary[~ii] = 'No'\n",
    "data['mpgbinary'] = mpgbinary\n",
    "\n",
    "# Se seleccionan los predictores que seran probados\n",
    "all_predictors = ['cylinders', 'displacement', 'horsepower','weight', 'acceleration', 'year']\n",
    "\n",
    "# Se define X y Y\n",
    "X = data[all_predictors]\n",
    "Y = data['mpgbinary']"
   ]
  },
  {
   "cell_type": "code",
   "execution_count": 6,
   "metadata": {
    "scrolled": true
   },
   "outputs": [
    {
     "name": "stdout",
     "output_type": "stream",
     "text": [
      "Trying these predictors ['cylinders']\n",
      "\t\t UPDATED BEST RESULTS: {'pr_area': 0.4477779643962178, 'roc_area': 0.9072224041925975, 'F1': 0.8799999999995013, 'predictors': ['cylinders']}\n",
      "Trying these predictors ['displacement']\n"
     ]
    },
    {
     "name": "stderr",
     "output_type": "stream",
     "text": [
      "/home/nicomn97/.local/lib/python3.6/site-packages/sklearn/linear_model/logistic.py:432: FutureWarning: Default solver will be changed to 'lbfgs' in 0.22. Specify a solver to silence this warning.\n",
      "  FutureWarning)\n",
      "/home/nicomn97/.local/lib/python3.6/site-packages/sklearn/linear_model/logistic.py:432: FutureWarning: Default solver will be changed to 'lbfgs' in 0.22. Specify a solver to silence this warning.\n",
      "  FutureWarning)\n"
     ]
    },
    {
     "name": "stdout",
     "output_type": "stream",
     "text": [
      "Trying these predictors ['horsepower']\n",
      "Trying these predictors ['weight']\n"
     ]
    },
    {
     "name": "stderr",
     "output_type": "stream",
     "text": [
      "/home/nicomn97/.local/lib/python3.6/site-packages/sklearn/linear_model/logistic.py:432: FutureWarning: Default solver will be changed to 'lbfgs' in 0.22. Specify a solver to silence this warning.\n",
      "  FutureWarning)\n",
      "/home/nicomn97/.local/lib/python3.6/site-packages/sklearn/linear_model/logistic.py:432: FutureWarning: Default solver will be changed to 'lbfgs' in 0.22. Specify a solver to silence this warning.\n",
      "  FutureWarning)\n"
     ]
    },
    {
     "name": "stdout",
     "output_type": "stream",
     "text": [
      "\t\t UPDATED BEST RESULTS: {'pr_area': 0.9475108832593198, 'roc_area': 0.957180071637903, 'F1': 0.9078947368416056, 'predictors': ['weight']}\n",
      "Trying these predictors ['acceleration']\n",
      "Trying these predictors ['year']\n"
     ]
    },
    {
     "name": "stderr",
     "output_type": "stream",
     "text": [
      "/home/nicomn97/.local/lib/python3.6/site-packages/sklearn/linear_model/logistic.py:432: FutureWarning: Default solver will be changed to 'lbfgs' in 0.22. Specify a solver to silence this warning.\n",
      "  FutureWarning)\n",
      "/home/nicomn97/.local/lib/python3.6/site-packages/sklearn/linear_model/logistic.py:432: FutureWarning: Default solver will be changed to 'lbfgs' in 0.22. Specify a solver to silence this warning.\n",
      "  FutureWarning)\n"
     ]
    },
    {
     "name": "stdout",
     "output_type": "stream",
     "text": [
      "Trying these predictors ['cylinders', 'weight']\n",
      "Trying these predictors ['displacement', 'weight']\n"
     ]
    },
    {
     "name": "stderr",
     "output_type": "stream",
     "text": [
      "/home/nicomn97/.local/lib/python3.6/site-packages/sklearn/linear_model/logistic.py:432: FutureWarning: Default solver will be changed to 'lbfgs' in 0.22. Specify a solver to silence this warning.\n",
      "  FutureWarning)\n",
      "/home/nicomn97/.local/lib/python3.6/site-packages/sklearn/linear_model/logistic.py:432: FutureWarning: Default solver will be changed to 'lbfgs' in 0.22. Specify a solver to silence this warning.\n",
      "  FutureWarning)\n"
     ]
    },
    {
     "name": "stdout",
     "output_type": "stream",
     "text": [
      "Trying these predictors ['horsepower', 'weight']\n",
      "Trying these predictors ['weight', 'acceleration']\n"
     ]
    },
    {
     "name": "stderr",
     "output_type": "stream",
     "text": [
      "/home/nicomn97/.local/lib/python3.6/site-packages/sklearn/linear_model/logistic.py:432: FutureWarning: Default solver will be changed to 'lbfgs' in 0.22. Specify a solver to silence this warning.\n",
      "  FutureWarning)\n",
      "/home/nicomn97/.local/lib/python3.6/site-packages/sklearn/linear_model/logistic.py:432: FutureWarning: Default solver will be changed to 'lbfgs' in 0.22. Specify a solver to silence this warning.\n",
      "  FutureWarning)\n"
     ]
    },
    {
     "name": "stdout",
     "output_type": "stream",
     "text": [
      "Trying these predictors ['weight', 'year']\n",
      "Trying these predictors ['cylinders', 'displacement', 'weight']\n"
     ]
    },
    {
     "name": "stderr",
     "output_type": "stream",
     "text": [
      "/home/nicomn97/.local/lib/python3.6/site-packages/sklearn/linear_model/logistic.py:432: FutureWarning: Default solver will be changed to 'lbfgs' in 0.22. Specify a solver to silence this warning.\n",
      "  FutureWarning)\n",
      "/home/nicomn97/.local/lib/python3.6/site-packages/sklearn/linear_model/logistic.py:432: FutureWarning: Default solver will be changed to 'lbfgs' in 0.22. Specify a solver to silence this warning.\n",
      "  FutureWarning)\n"
     ]
    },
    {
     "name": "stdout",
     "output_type": "stream",
     "text": [
      "Trying these predictors ['cylinders', 'horsepower', 'weight']\n",
      "Trying these predictors ['cylinders', 'weight', 'acceleration']\n"
     ]
    },
    {
     "name": "stderr",
     "output_type": "stream",
     "text": [
      "/home/nicomn97/.local/lib/python3.6/site-packages/sklearn/linear_model/logistic.py:432: FutureWarning: Default solver will be changed to 'lbfgs' in 0.22. Specify a solver to silence this warning.\n",
      "  FutureWarning)\n",
      "/home/nicomn97/.local/lib/python3.6/site-packages/sklearn/linear_model/logistic.py:432: FutureWarning: Default solver will be changed to 'lbfgs' in 0.22. Specify a solver to silence this warning.\n",
      "  FutureWarning)\n"
     ]
    },
    {
     "name": "stdout",
     "output_type": "stream",
     "text": [
      "Trying these predictors ['cylinders', 'weight', 'year']\n",
      "Trying these predictors ['displacement', 'horsepower', 'weight']\n"
     ]
    },
    {
     "name": "stderr",
     "output_type": "stream",
     "text": [
      "/home/nicomn97/.local/lib/python3.6/site-packages/sklearn/linear_model/logistic.py:432: FutureWarning: Default solver will be changed to 'lbfgs' in 0.22. Specify a solver to silence this warning.\n",
      "  FutureWarning)\n",
      "/home/nicomn97/.local/lib/python3.6/site-packages/sklearn/linear_model/logistic.py:432: FutureWarning: Default solver will be changed to 'lbfgs' in 0.22. Specify a solver to silence this warning.\n",
      "  FutureWarning)\n"
     ]
    },
    {
     "name": "stdout",
     "output_type": "stream",
     "text": [
      "Trying these predictors ['displacement', 'weight', 'acceleration']\n",
      "Trying these predictors ['displacement', 'weight', 'year']\n",
      "Trying these predictors ['horsepower', 'weight', 'acceleration']\n"
     ]
    },
    {
     "name": "stderr",
     "output_type": "stream",
     "text": [
      "/home/nicomn97/.local/lib/python3.6/site-packages/sklearn/linear_model/logistic.py:432: FutureWarning: Default solver will be changed to 'lbfgs' in 0.22. Specify a solver to silence this warning.\n",
      "  FutureWarning)\n",
      "/home/nicomn97/.local/lib/python3.6/site-packages/sklearn/linear_model/logistic.py:432: FutureWarning: Default solver will be changed to 'lbfgs' in 0.22. Specify a solver to silence this warning.\n",
      "  FutureWarning)\n",
      "/home/nicomn97/.local/lib/python3.6/site-packages/sklearn/linear_model/logistic.py:432: FutureWarning: Default solver will be changed to 'lbfgs' in 0.22. Specify a solver to silence this warning.\n",
      "  FutureWarning)\n"
     ]
    },
    {
     "name": "stdout",
     "output_type": "stream",
     "text": [
      "Trying these predictors ['horsepower', 'weight', 'year']\n",
      "Trying these predictors ['weight', 'acceleration', 'year']\n",
      "Trying these predictors ['cylinders', 'displacement', 'horsepower', 'weight']\n"
     ]
    },
    {
     "name": "stderr",
     "output_type": "stream",
     "text": [
      "/home/nicomn97/.local/lib/python3.6/site-packages/sklearn/linear_model/logistic.py:432: FutureWarning: Default solver will be changed to 'lbfgs' in 0.22. Specify a solver to silence this warning.\n",
      "  FutureWarning)\n",
      "/home/nicomn97/.local/lib/python3.6/site-packages/sklearn/linear_model/logistic.py:432: FutureWarning: Default solver will be changed to 'lbfgs' in 0.22. Specify a solver to silence this warning.\n",
      "  FutureWarning)\n",
      "/home/nicomn97/.local/lib/python3.6/site-packages/sklearn/linear_model/logistic.py:432: FutureWarning: Default solver will be changed to 'lbfgs' in 0.22. Specify a solver to silence this warning.\n",
      "  FutureWarning)\n"
     ]
    },
    {
     "name": "stdout",
     "output_type": "stream",
     "text": [
      "Trying these predictors ['cylinders', 'displacement', 'weight', 'acceleration']\n",
      "Trying these predictors ['cylinders', 'displacement', 'weight', 'year']\n"
     ]
    },
    {
     "name": "stderr",
     "output_type": "stream",
     "text": [
      "/home/nicomn97/.local/lib/python3.6/site-packages/sklearn/linear_model/logistic.py:432: FutureWarning: Default solver will be changed to 'lbfgs' in 0.22. Specify a solver to silence this warning.\n",
      "  FutureWarning)\n",
      "/home/nicomn97/.local/lib/python3.6/site-packages/sklearn/linear_model/logistic.py:432: FutureWarning: Default solver will be changed to 'lbfgs' in 0.22. Specify a solver to silence this warning.\n",
      "  FutureWarning)\n"
     ]
    },
    {
     "name": "stdout",
     "output_type": "stream",
     "text": [
      "Trying these predictors ['cylinders', 'horsepower', 'weight', 'acceleration']\n",
      "Trying these predictors ['cylinders', 'horsepower', 'weight', 'year']\n"
     ]
    },
    {
     "name": "stderr",
     "output_type": "stream",
     "text": [
      "/home/nicomn97/.local/lib/python3.6/site-packages/sklearn/linear_model/logistic.py:432: FutureWarning: Default solver will be changed to 'lbfgs' in 0.22. Specify a solver to silence this warning.\n",
      "  FutureWarning)\n",
      "/home/nicomn97/.local/lib/python3.6/site-packages/sklearn/linear_model/logistic.py:432: FutureWarning: Default solver will be changed to 'lbfgs' in 0.22. Specify a solver to silence this warning.\n",
      "  FutureWarning)\n"
     ]
    },
    {
     "name": "stdout",
     "output_type": "stream",
     "text": [
      "Trying these predictors ['cylinders', 'weight', 'acceleration', 'year']\n",
      "Trying these predictors ['displacement', 'horsepower', 'weight', 'acceleration']\n"
     ]
    },
    {
     "name": "stderr",
     "output_type": "stream",
     "text": [
      "/home/nicomn97/.local/lib/python3.6/site-packages/sklearn/linear_model/logistic.py:432: FutureWarning: Default solver will be changed to 'lbfgs' in 0.22. Specify a solver to silence this warning.\n",
      "  FutureWarning)\n",
      "/home/nicomn97/.local/lib/python3.6/site-packages/sklearn/linear_model/logistic.py:432: FutureWarning: Default solver will be changed to 'lbfgs' in 0.22. Specify a solver to silence this warning.\n",
      "  FutureWarning)\n"
     ]
    },
    {
     "name": "stdout",
     "output_type": "stream",
     "text": [
      "Trying these predictors ['displacement', 'horsepower', 'weight', 'year']\n",
      "Trying these predictors ['displacement', 'weight', 'acceleration', 'year']\n"
     ]
    },
    {
     "name": "stderr",
     "output_type": "stream",
     "text": [
      "/home/nicomn97/.local/lib/python3.6/site-packages/sklearn/linear_model/logistic.py:432: FutureWarning: Default solver will be changed to 'lbfgs' in 0.22. Specify a solver to silence this warning.\n",
      "  FutureWarning)\n",
      "/home/nicomn97/.local/lib/python3.6/site-packages/sklearn/linear_model/logistic.py:432: FutureWarning: Default solver will be changed to 'lbfgs' in 0.22. Specify a solver to silence this warning.\n",
      "  FutureWarning)\n"
     ]
    },
    {
     "name": "stdout",
     "output_type": "stream",
     "text": [
      "Trying these predictors ['horsepower', 'weight', 'acceleration', 'year']\n",
      "Trying these predictors ['cylinders', 'displacement', 'horsepower', 'weight', 'acceleration']\n"
     ]
    },
    {
     "name": "stderr",
     "output_type": "stream",
     "text": [
      "/home/nicomn97/.local/lib/python3.6/site-packages/sklearn/linear_model/logistic.py:432: FutureWarning: Default solver will be changed to 'lbfgs' in 0.22. Specify a solver to silence this warning.\n",
      "  FutureWarning)\n",
      "/home/nicomn97/.local/lib/python3.6/site-packages/sklearn/linear_model/logistic.py:432: FutureWarning: Default solver will be changed to 'lbfgs' in 0.22. Specify a solver to silence this warning.\n",
      "  FutureWarning)\n"
     ]
    },
    {
     "name": "stdout",
     "output_type": "stream",
     "text": [
      "Trying these predictors ['cylinders', 'displacement', 'horsepower', 'weight', 'year']\n",
      "Trying these predictors ['cylinders', 'displacement', 'weight', 'acceleration', 'year']\n"
     ]
    },
    {
     "name": "stderr",
     "output_type": "stream",
     "text": [
      "/home/nicomn97/.local/lib/python3.6/site-packages/sklearn/linear_model/logistic.py:432: FutureWarning: Default solver will be changed to 'lbfgs' in 0.22. Specify a solver to silence this warning.\n",
      "  FutureWarning)\n",
      "/home/nicomn97/.local/lib/python3.6/site-packages/sklearn/linear_model/logistic.py:432: FutureWarning: Default solver will be changed to 'lbfgs' in 0.22. Specify a solver to silence this warning.\n",
      "  FutureWarning)\n"
     ]
    },
    {
     "name": "stdout",
     "output_type": "stream",
     "text": [
      "\t\t UPDATED BEST RESULTS: {'pr_area': 0.9566419528736076, 'roc_area': 0.9788011695906432, 'F1': 0.9341317365264464, 'predictors': ['cylinders', 'displacement', 'weight', 'acceleration', 'year']}\n",
      "Trying these predictors ['cylinders', 'displacement', 'horsepower', 'weight', 'acceleration', 'year']\n",
      " \n",
      "The best {'pr_area': 0.9566419528736076, 'roc_area': 0.9788011695906432, 'F1': 0.9341317365264464, 'predictors': ['cylinders', 'displacement', 'weight', 'acceleration', 'year']}\n",
      " \n"
     ]
    },
    {
     "name": "stderr",
     "output_type": "stream",
     "text": [
      "/home/nicomn97/.local/lib/python3.6/site-packages/sklearn/linear_model/logistic.py:432: FutureWarning: Default solver will be changed to 'lbfgs' in 0.22. Specify a solver to silence this warning.\n",
      "  FutureWarning)\n"
     ]
    }
   ],
   "source": [
    "# Se aplican las funciones desarrolladas anteriormente para determinar los mejores indicadores con regresion logistica\n",
    "f = sklearn.linear_model.LogisticRegression()\n",
    "best = find_best_predictors(X, Y, all_predictors, f)\n",
    "print(' ')\n",
    "print('The best {}'.format(best))\n",
    "print(' ')"
   ]
  },
  {
   "cell_type": "markdown",
   "metadata": {},
   "source": [
    "Despues de probar para Logistic Regression, se obtiene:\n",
    "\n",
    "1 VEZ:\n",
    "The best {'pr_area': 0.9574392496602167, 'roc_area': 0.9767612524461841, 'F1': 0.9387755102035816, 'predictors': ['horsepower', 'weight']}\n",
    "\n",
    "2 VEZ:\n",
    "The best {'pr_area': 0.9559706626232997, 'roc_area': 0.9814814814814814, 'F1': 0.9542483660125719, 'predictors': ['weight', 'year']}\n",
    " \n",
    "3 VEZ:\n",
    "The best {'pr_area': 0.9247968515019328, 'roc_area': 0.9417396949042518, 'F1': 0.9166666666661691, 'predictors': ['cylinders', 'displacement']}"
   ]
  },
  {
   "cell_type": "code",
   "execution_count": 7,
   "metadata": {},
   "outputs": [
    {
     "name": "stdout",
     "output_type": "stream",
     "text": [
      "Trying these predictors ['cylinders']\n",
      "\t\t UPDATED BEST RESULTS: {'pr_area': 0.4473474666014989, 'roc_area': 0.8998376623376623, 'F1': 0.8941176470583252, 'predictors': ['cylinders']}\n",
      "Trying these predictors ['displacement']\n",
      "\t\t UPDATED BEST RESULTS: {'pr_area': 0.8891091535221114, 'roc_area': 0.9299868981329839, 'F1': 0.9148936170207801, 'predictors': ['displacement']}\n",
      "Trying these predictors ['horsepower']\n",
      "Trying these predictors ['weight']\n",
      "Trying these predictors ['acceleration']\n",
      "Trying these predictors ['year']\n",
      "Trying these predictors ['cylinders', 'displacement']\n",
      "Trying these predictors ['displacement', 'horsepower']\n",
      "Trying these predictors ['displacement', 'weight']\n",
      "Trying these predictors ['displacement', 'acceleration']\n",
      "Trying these predictors ['displacement', 'year']\n",
      "\t\t UPDATED BEST RESULTS: {'pr_area': 0.9391486890083682, 'roc_area': 0.9722222222222222, 'F1': 0.9171974522288027, 'predictors': ['displacement', 'year']}\n",
      "Trying these predictors ['cylinders', 'displacement', 'year']\n",
      "Trying these predictors ['displacement', 'horsepower', 'year']\n",
      "Trying these predictors ['displacement', 'weight', 'year']\n",
      "Trying these predictors ['displacement', 'acceleration', 'year']\n",
      "Trying these predictors ['cylinders', 'displacement', 'horsepower', 'year']\n",
      "Trying these predictors ['cylinders', 'displacement', 'weight', 'year']\n",
      "Trying these predictors ['cylinders', 'displacement', 'acceleration', 'year']\n",
      "Trying these predictors ['displacement', 'horsepower', 'weight', 'year']\n",
      "Trying these predictors ['displacement', 'horsepower', 'acceleration', 'year']\n",
      "Trying these predictors ['displacement', 'weight', 'acceleration', 'year']\n",
      "Trying these predictors ['cylinders', 'displacement', 'horsepower', 'weight', 'year']\n",
      "Trying these predictors ['cylinders', 'displacement', 'horsepower', 'acceleration', 'year']\n",
      "Trying these predictors ['cylinders', 'displacement', 'weight', 'acceleration', 'year']\n",
      "Trying these predictors ['displacement', 'horsepower', 'weight', 'acceleration', 'year']\n",
      "Trying these predictors ['cylinders', 'displacement', 'horsepower', 'weight', 'acceleration', 'year']\n",
      " \n",
      "The best {'pr_area': 0.9391486890083682, 'roc_area': 0.9722222222222222, 'F1': 0.9171974522288027, 'predictors': ['displacement', 'year']}\n",
      " \n"
     ]
    }
   ],
   "source": [
    "# Se aplican las funciones desarrolladas anteriormente para determinar los mejores indicadores con LDA\n",
    "f = sklearn.discriminant_analysis.LinearDiscriminantAnalysis()\n",
    "best = find_best_predictors(X, Y, all_predictors, f)\n",
    "print(' ')\n",
    "print('The best {}'.format(best))\n",
    "print(' ')"
   ]
  },
  {
   "cell_type": "markdown",
   "metadata": {},
   "source": [
    "Despues de probar para LDA, se obtiene:\n",
    "\n",
    "1 VEZ:\n",
    "The best {'pr_area': 0.9663268074814666, 'roc_area': 0.9603252032520325, 'F1': 0.9350649350644353, 'predictors': ['cylinders', 'displacement', 'horsepower']}\n",
    "\n",
    "2 VEZ:\n",
    "The best {'pr_area': 0.8936449447520513, 'roc_area': 0.9452032520325203, 'F1': 0.904761904761405, 'predictors': ['cylinders', 'displacement', 'weight']}\n",
    " \n",
    "3 VEZ:\n",
    "The best {'pr_area': 0.9475002909072638, 'roc_area': 0.9544642857142858, 'F1': 0.9171974522287994, 'predictors': ['displacement', 'acceleration']}"
   ]
  },
  {
   "cell_type": "code",
   "execution_count": null,
   "metadata": {},
   "outputs": [],
   "source": []
  }
 ],
 "metadata": {
  "kernelspec": {
   "display_name": "Python 3",
   "language": "python",
   "name": "python3"
  },
  "language_info": {
   "codemirror_mode": {
    "name": "ipython",
    "version": 3
   },
   "file_extension": ".py",
   "mimetype": "text/x-python",
   "name": "python",
   "nbconvert_exporter": "python",
   "pygments_lexer": "ipython3",
   "version": "3.6.7"
  }
 },
 "nbformat": 4,
 "nbformat_minor": 2
}

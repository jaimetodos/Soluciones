{
 "cells": [
  {
   "cell_type": "markdown",
   "metadata": {},
   "source": [
    "# Ejercicio 5: Muestrear la distribución exponencial inversa y la distribución beta usando metropolis hasting "
   ]
  },
  {
   "cell_type": "markdown",
   "metadata": {},
   "source": [
    "Primero la distribución exponencial inversa"
   ]
  },
  {
   "cell_type": "code",
   "execution_count": 1,
   "metadata": {},
   "outputs": [],
   "source": [
    "import numpy as np\n",
    "import matplotlib.pyplot as plt\n",
    "from scipy.special import gamma\n",
    "\n",
    "#Primero vamos a muestrear la inversa. Definimos la función.\n",
    "\n",
    "def inverse(x, l=10):\n",
    "    if(np.isscalar(x)):# esto va a funcionar si entra un numero (escalar)\n",
    "        if x>1E-6:\n",
    "            #Esta es la fórmula de la distribución. \n",
    "            #Ver: http://shodhganga.inflibnet.ac.in/bitstream/10603/149312/8/08_chapter%203.pdf\n",
    "            y = l*(1/x**2)*np.exp(-l/x) \n",
    "        else:\n",
    "            y = 0.0 #La función solo está definida para x positivos.\n",
    "    else: # esto funciona si es un array\n",
    "        y = l*(1/x**2)*np.exp(-l/x)\n",
    "        ii = x<1E-6\n",
    "        y[ii] = 0\n",
    "    return y"
   ]
  },
  {
   "cell_type": "code",
   "execution_count": 9,
   "metadata": {},
   "outputs": [],
   "source": [
    "def metropolis(N=100000):\n",
    "    #Iniciamos con un numero aleatorio\n",
    "    lista = [np.random.random()]\n",
    "    sigma_delta = 4.0\n",
    "\n",
    "    for i in range(1,N):\n",
    "        #Proponemos un número x2 que viene del anterior pero con un salto dx.\n",
    "        #El dx viene de una gaussiana centrada en cero y desviación la que queramos.\n",
    "        propuesta  = lista[i-1] + np.random.normal(loc=0.0, scale=sigma_delta)\n",
    "        \n",
    "        #Comparamos la propuesta con el anterior. No queremos que la razón sea mayor a 1.\n",
    "        r = min(1,inverse(propuesta)/inverse(lista[i-1]))\n",
    "        #Generamos un número aleatorio entre 0 y 1.\n",
    "        alpha = np.random.random()\n",
    "        #Si es menor lo metemos a la lista.\n",
    "        if(alpha<r):\n",
    "            lista.append(propuesta)\n",
    "        #Sino, dejamos el anterior.\n",
    "        else:\n",
    "            lista.append(lista[i-1])\n",
    "            \n",
    "    return np.array(lista)\n",
    "\n",
    "#Llamamos la cadena\n",
    "cadena = metropolis()\n"
   ]
  },
  {
   "cell_type": "code",
   "execution_count": 10,
   "metadata": {},
   "outputs": [
    {
     "data": {
      "text/plain": [
       "Text(0,0.5,'PDF(x)')"
      ]
     },
     "execution_count": 10,
     "metadata": {},
     "output_type": "execute_result"
    },
    {
     "data": {
      "image/png": "[encoded data removed]",
      "text/plain": [
       "<Figure size 432x288 with 1 Axes>"
      ]
     },
     "metadata": {},
     "output_type": "display_data"
    }
   ],
   "source": [
    "#Comparamos el histograma de puntos generados con la función.\n",
    "x = np.linspace(cadena.min(),cadena.max(),1000)\n",
    "plt.plot(x, inverse(x))\n",
    "plt.hist(cadena, density=True, bins=200)\n",
    "plt.xlim([0,100])\n",
    "plt.xlabel('x')\n",
    "plt.ylabel('PDF(x)')"
   ]
  },
  {
   "cell_type": "markdown",
   "metadata": {},
   "source": [
    "Ahora la beta"
   ]
  },
  {
   "cell_type": "code",
   "execution_count": 11,
   "metadata": {},
   "outputs": [],
   "source": [
    "def beta(x,a=2.0,b=2.0):\n",
    "    #Esta es la fórmula de la distribución.\n",
    "    y=(gamma(a+b)/gamma(a)*gamma(b))*x**((a-1))*(1-x)**((b-1))\n",
    "    return y"
   ]
  },
  {
   "cell_type": "code",
   "execution_count": 12,
   "metadata": {},
   "outputs": [],
   "source": [
    "def metropolis_beta(N=100000):\n",
    "    #Iniciamos con un numero aleatorio\n",
    "    lista = [np.random.random()]\n",
    "    sigma_delta = 4.0\n",
    "\n",
    "    for i in range(1,N):\n",
    "        #Proponemos un número x2 que viene del anterior pero con un salto dx.\n",
    "        #El dx viene de una gaussiana centrada en cero y desviación la que queramos.\n",
    "        propuesta  = lista[i-1] + np.random.normal(loc=0.0, scale=sigma_delta)\n",
    "        \n",
    "        #Comparamos la propuesta con el anterior. No queremos que la razón sea mayor a 1.\n",
    "        r = min(1,beta(propuesta)/beta(lista[i-1]))\n",
    "        #Generamos un número aleatorio entre 0 y 1.\n",
    "        alpha = np.random.random()\n",
    "        #Si es menor lo metemos a la lista.\n",
    "        if(alpha<r):\n",
    "            lista.append(propuesta)\n",
    "        #Sino, dejamos el anterior.\n",
    "        else:\n",
    "            lista.append(lista[i-1])\n",
    "            \n",
    "    return np.array(lista)\n",
    "\n",
    "#Llamamos la cadena\n",
    "cadena_beta = metropolis_beta()"
   ]
  },
  {
   "cell_type": "code",
   "execution_count": 13,
   "metadata": {},
   "outputs": [
    {
     "data": {
      "text/plain": [
       "Text(0,0.5,'PDF(x)')"
      ]
     },
     "execution_count": 13,
     "metadata": {},
     "output_type": "execute_result"
    },
    {
     "data": {
      "image/png": "[encoded data removed]",
      "text/plain": [
       "<Figure size 432x288 with 1 Axes>"
      ]
     },
     "metadata": {},
     "output_type": "display_data"
    }
   ],
   "source": [
    "#Comparamos el histograma de puntos generados con la función.\n",
    "x = np.linspace(cadena_beta.min(),cadena_beta.max(),1000)\n",
    "plt.plot(x, beta(x))\n",
    "plt.hist(cadena_beta, density=True, bins=200)\n",
    "plt.xlim([0,1])\n",
    "plt.xlabel('x')\n",
    "plt.ylabel('PDF(x)')"
   ]
  },
  {
   "cell_type": "code",
   "execution_count": null,
   "metadata": {},
   "outputs": [],
   "source": []
  }
 ],
 "metadata": {
  "kernelspec": {
   "display_name": "Python 3",
   "language": "python",
   "name": "python3"
  },
  "language_info": {
   "codemirror_mode": {
    "name": "ipython",
    "version": 3
   },
   "file_extension": ".py",
   "mimetype": "text/x-python",
   "name": "python",
   "nbconvert_exporter": "python",
   "pygments_lexer": "ipython3",
   "version": "3.6.5"
  }
 },
 "nbformat": 4,
 "nbformat_minor": 2
}
